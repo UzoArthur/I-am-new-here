{
 "cells": [
  {
   "cell_type": "markdown",
   "metadata": {},
   "source": [
    "# Creating Rank 1 Numpy arrays"
   ]
  },
  {
   "cell_type": "code",
   "execution_count": 1,
   "metadata": {},
   "outputs": [
    {
     "name": "stdout",
     "output_type": "stream",
     "text": [
      "<class 'numpy.ndarray'>\n"
     ]
    }
   ],
   "source": [
    "import numpy as np\n",
    "an_array = np.array([13,33,20])  #create a rank 1 array\n",
    "print(type(an_array))"
   ]
  },
  {
   "cell_type": "code",
   "execution_count": 2,
   "metadata": {},
   "outputs": [
    {
     "name": "stdout",
     "output_type": "stream",
     "text": [
      "(3,)\n"
     ]
    }
   ],
   "source": [
    "#to test the shape of th array we just created\n",
    "print(an_array.shape)"
   ]
  },
  {
   "cell_type": "markdown",
   "metadata": {},
   "source": [
    "the an_array has 1dimension and 3 elements"
   ]
  },
  {
   "cell_type": "code",
   "execution_count": 3,
   "metadata": {},
   "outputs": [
    {
     "name": "stdout",
     "output_type": "stream",
     "text": [
      "13 33 20\n"
     ]
    }
   ],
   "source": [
    "print(an_array[0], an_array[1], an_array[2])"
   ]
  },
  {
   "cell_type": "code",
   "execution_count": 4,
   "metadata": {},
   "outputs": [],
   "source": [
    "an_array[0] = 234"
   ]
  },
  {
   "cell_type": "code",
   "execution_count": 5,
   "metadata": {},
   "outputs": [
    {
     "name": "stdout",
     "output_type": "stream",
     "text": [
      "[234  33  20]\n"
     ]
    }
   ],
   "source": [
    "print(an_array)"
   ]
  },
  {
   "cell_type": "code",
   "execution_count": 7,
   "metadata": {},
   "outputs": [
    {
     "name": "stdout",
     "output_type": "stream",
     "text": [
      "[[  2  90  12  34]\n",
      " [ 45  98  24  57]\n",
      " [ 47  25  14 156]]\n"
     ]
    }
   ],
   "source": [
    "a_aray = np.array([[2,90,12,34], [45,98,24, 57], [47,25,14,156]])\n",
    "print(a_aray)"
   ]
  },
  {
   "cell_type": "code",
   "execution_count": 11,
   "metadata": {},
   "outputs": [
    {
     "name": "stdout",
     "output_type": "stream",
     "text": [
      "[[90 12]\n",
      " [98 24]]\n"
     ]
    }
   ],
   "source": [
    "a_slice = a_aray[:2, 1:3]\n",
    "print(a_slice)"
   ]
  },
  {
   "cell_type": "markdown",
   "metadata": {},
   "source": [
    "to create a copy of an array is done so that even when you change the elements of an array, it doeant change \n",
    "because a copy of the array has been made."
   ]
  },
  {
   "cell_type": "code",
   "execution_count": 10,
   "metadata": {},
   "outputs": [
    {
     "name": "stdout",
     "output_type": "stream",
     "text": [
      "[[90 77]\n",
      " [98 24]]\n",
      "77\n"
     ]
    }
   ],
   "source": [
    "a_slice = np.array(a_aray[:2, 1:3])\n",
    "a_slice[0,1] = 77\n",
    "print(a_slice)\n",
    "print(a_slice[0,1])"
   ]
  },
  {
   "cell_type": "markdown",
   "metadata": {},
   "source": [
    "# Numpy array indexing for changing elements\n"
   ]
  },
  {
   "cell_type": "code",
   "execution_count": 12,
   "metadata": {},
   "outputs": [
    {
     "name": "stdout",
     "output_type": "stream",
     "text": [
      "Original Array\n",
      "[[11 12 13]\n",
      " [21 22 23]\n",
      " [31 32 33]\n",
      " [41 42 43]]\n"
     ]
    }
   ],
   "source": [
    "an_ty = np.array([[11,12,13], [21,22,23], [31,32,33], [41,42,43]])\n",
    "print('Original Array')\n",
    "print(an_ty)"
   ]
  },
  {
   "cell_type": "code",
   "execution_count": null,
   "metadata": {},
   "outputs": [],
   "source": []
  },
  {
   "cell_type": "code",
   "execution_count": 13,
   "metadata": {},
   "outputs": [
    {
     "name": "stdout",
     "output_type": "stream",
     "text": [
      "[0 1 2 0]\n",
      "[0 1 2 3]\n",
      "0 , 0\n",
      "1 , 1\n",
      "2 , 2\n",
      "3 , 0\n"
     ]
    }
   ],
   "source": [
    "#create an array of indices\n",
    "col_indices = np.array([0,1,2,0])\n",
    "print(col_indices)\n",
    "row_indices = np.arange(4)\n",
    "print(row_indices)\n",
    "#examine the pairing of rows and indices\n",
    "for row,col in zip(row_indices, col_indices):\n",
    "    print(row, ',', col)"
   ]
  },
  {
   "cell_type": "code",
   "execution_count": 14,
   "metadata": {},
   "outputs": [
    {
     "name": "stdout",
     "output_type": "stream",
     "text": [
      "Values in the array at those indices [11 22 33 41]\n"
     ]
    }
   ],
   "source": [
    "#select one element from each row\n",
    "print('Values in the array at those indices', an_ty[row_indices,col_indices])"
   ]
  },
  {
   "cell_type": "code",
   "execution_count": 15,
   "metadata": {},
   "outputs": [
    {
     "name": "stdout",
     "output_type": "stream",
     "text": [
      "Changed Array:\n",
      "[[100011     12     13]\n",
      " [    21 100022     23]\n",
      " [    31     32 100033]\n",
      " [100041     42     43]]\n"
     ]
    }
   ],
   "source": [
    "#change one element from each row using the indices selected\n",
    "an_ty[row_indices,col_indices] += 100000\n",
    "print('Changed Array:')\n",
    "print(an_ty)"
   ]
  },
  {
   "cell_type": "markdown",
   "metadata": {},
   "source": [
    "# nd array boolean indexing"
   ]
  },
  {
   "cell_type": "code",
   "execution_count": 17,
   "metadata": {},
   "outputs": [
    {
     "name": "stdout",
     "output_type": "stream",
     "text": [
      "[[12 45]\n",
      " [56 85]\n",
      " [48 92]]\n"
     ]
    },
    {
     "data": {
      "text/plain": [
       "array([[False, False],\n",
       "       [ True,  True],\n",
       "       [False,  True]])"
      ]
     },
     "execution_count": 17,
     "metadata": {},
     "output_type": "execute_result"
    }
   ],
   "source": [
    "ar = np.array([[12,45], [56,85], [48,92]])\n",
    "print(ar)\n",
    "filter = (ar > 50)\n",
    "filter"
   ]
  },
  {
   "cell_type": "code",
   "execution_count": 18,
   "metadata": {},
   "outputs": [
    {
     "name": "stdout",
     "output_type": "stream",
     "text": [
      "[56 85 92]\n"
     ]
    }
   ],
   "source": [
    "print(ar[filter])"
   ]
  },
  {
   "cell_type": "code",
   "execution_count": 26,
   "metadata": {},
   "outputs": [
    {
     "data": {
      "text/plain": [
       "array([85, 92])"
      ]
     },
     "execution_count": 26,
     "metadata": {},
     "output_type": "execute_result"
    }
   ],
   "source": [
    "ar[(ar>20)&(ar > 60)]"
   ]
  },
  {
   "cell_type": "markdown",
   "metadata": {},
   "source": [
    "## nd array datatypes and operations"
   ]
  },
  {
   "cell_type": "code",
   "execution_count": 32,
   "metadata": {},
   "outputs": [
    {
     "name": "stdout",
     "output_type": "stream",
     "text": [
      "[[11 23 44]\n",
      " [35 26 78]]\n",
      "\n",
      "[[12. 53. 74.]\n",
      " [30. 22. 58.]]\n"
     ]
    }
   ],
   "source": [
    "x = np.array([[11,23,44], [35,26,78]], dtype = np.int64)\n",
    "y = np.array([[12.0,53.0,74.0], [30.0,22.0,58.0]], dtype = np.float64)\n",
    "print(x)\n",
    "print()\n",
    "print(y)"
   ]
  },
  {
   "cell_type": "code",
   "execution_count": 33,
   "metadata": {},
   "outputs": [
    {
     "name": "stdout",
     "output_type": "stream",
     "text": [
      "[[ 23.  76. 118.]\n",
      " [ 65.  48. 136.]]\n",
      "\n",
      "[[ 23.  76. 118.]\n",
      " [ 65.  48. 136.]]\n"
     ]
    }
   ],
   "source": [
    "#add x + y\n",
    "print(x + y)\n",
    "print()\n",
    "print(np.add(x,y))"
   ]
  },
  {
   "cell_type": "code",
   "execution_count": 34,
   "metadata": {},
   "outputs": [
    {
     "name": "stdout",
     "output_type": "stream",
     "text": [
      "[[ -1. -30. -30.]\n",
      " [  5.   4.  20.]]\n",
      "\n",
      "[[ -1. -30. -30.]\n",
      " [  5.   4.  20.]]\n"
     ]
    }
   ],
   "source": [
    "#subtract x - y\n",
    "print(x - y)\n",
    "print()\n",
    "print(np.subtract(x,y))"
   ]
  },
  {
   "cell_type": "code",
   "execution_count": 35,
   "metadata": {},
   "outputs": [
    {
     "name": "stdout",
     "output_type": "stream",
     "text": [
      "[[0.91666667 0.43396226 0.59459459]\n",
      " [1.16666667 1.18181818 1.34482759]]\n",
      "\n",
      "[[0.91666667 0.43396226 0.59459459]\n",
      " [1.16666667 1.18181818 1.34482759]]\n"
     ]
    }
   ],
   "source": [
    "#divide x/y\n",
    "print(x/y)\n",
    "print()\n",
    "print(np.divide(x,y))"
   ]
  },
  {
   "cell_type": "code",
   "execution_count": null,
   "metadata": {},
   "outputs": [],
   "source": []
  }
 ],
 "metadata": {
  "kernelspec": {
   "display_name": "Python 3",
   "language": "python",
   "name": "python3"
  },
  "language_info": {
   "codemirror_mode": {
    "name": "ipython",
    "version": 3
   },
   "file_extension": ".py",
   "mimetype": "text/x-python",
   "name": "python",
   "nbconvert_exporter": "python",
   "pygments_lexer": "ipython3",
   "version": "3.7.1"
  }
 },
 "nbformat": 4,
 "nbformat_minor": 2
}
