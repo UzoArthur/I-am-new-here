{
 "cells": [
  {
   "cell_type": "markdown",
   "metadata": {},
   "source": [
    "Among all industries, the insurance domain has one of the largest uses of analytics & data science methods.\n",
    "This dataset provides you a taste of working on data sets from insurance companies – what challenges are faced there,\n",
    "what strategies are used, which variables influence the outcome, etc. \n",
    "This is a classification problem. The data has 615 rows and 13 columns.\n",
    "\n",
    "Problem: Predict if a loan will get approved or not.\n",
    "\n",
    "\n",
    "\n",
    "Problem Statement\n",
    "About Company\n",
    "Dream Housing Finance company deals in all home loans. \n",
    "They have presence across all urban, semi urban and rural areas.\n",
    "Customer first apply for home loan after that company validates the customer eligibility for loan.\n",
    "\n",
    "Problem\n",
    "Company wants to automate the loan eligibility process (real time) based on customer detail provided while filling online application form. \n",
    "These details are Gender, Marital Status, Education, Number of Dependents, Income, Loan Amount, Credit History and others. \n",
    "To automate this process, they have given a problem to identify the customers segments, those are eligible for loan amount so that they can specifically target these customers.\n",
    " Here they have provided a partial data set.\n",
    "\n",
    "Data\n",
    "Variable -------\t\tDescription\n",
    "\n",
    "Loan_ID ------\t\tUnique Loan ID\n",
    "\n",
    "Gender\t--------\t\tMale/ Female\n",
    "\n",
    "Married\t---------\t\tApplicant married (Y/N)\n",
    "\n",
    "Dependents ----------\t\tNumber of dependents\n",
    "\n",
    "Education ---------\t\tApplicant Education (Graduate/ Under Graduate)\n",
    "\n",
    "Self_Employed ---------\t\tSelf employed (Y/N)\n",
    "\n",
    "ApplicantIncome ---------\t\tApplicant income\n",
    "\n",
    "CoapplicantIncome ----------\tCoapplicant income\n",
    "\n",
    "LoanAmount ----------\t\tLoan amount in thousands\n",
    "\n",
    "Loan_Amount_Term -----------\tTerm of loan in months\n",
    "\n",
    "Credit_History\t---------\tcredit history meets guidelines\n",
    "\n",
    "Property_Area ----------- Urban/ Semi Urban/ Rural\n",
    "\n",
    "Loan_Status\t-------------Loan approved (Y/N)\n",
    "\n"
   ]
  },
  {
   "cell_type": "code",
   "execution_count": 1,
   "metadata": {},
   "outputs": [
    {
     "name": "stdout",
     "output_type": "stream",
     "text": [
      "Populating the interactive namespace from numpy and matplotlib\n"
     ]
    }
   ],
   "source": [
    "import pandas as pd\n",
    "import matplotlib.pyplot as plt\n",
    "import numpy as np\n",
    "import scipy.stats as stats\n",
    "import seaborn as sns\n",
    "from matplotlib import rcParams\n",
    "\n",
    "from sklearn.metrics import accuracy_score\n",
    "from sklearn.model_selection import train_test_split\n",
    "from sklearn.tree import DecisionTreeClassifier\n",
    "\n",
    "%matplotlib inline \n",
    "%pylab inline "
   ]
  },
  {
   "cell_type": "markdown",
   "metadata": {},
   "source": [
    "### Importing the loan prediction dataset"
   ]
  },
  {
   "cell_type": "code",
   "execution_count": 2,
   "metadata": {},
   "outputs": [
    {
     "data": {
      "text/plain": [
       "Index(['Loan_ID', 'Gender', 'Married', 'Dependents', 'Education',\n",
       "       'Self_Employed', 'ApplicantIncome', 'CoapplicantIncome', 'LoanAmount',\n",
       "       'Loan_Amount_Term', 'Credit_History', 'Property_Area', 'Loan_Status'],\n",
       "      dtype='object')"
      ]
     },
     "execution_count": 2,
     "metadata": {},
     "output_type": "execute_result"
    }
   ],
   "source": [
    "file='C:/Users/OFFICE/Desktop/bOOK/data science/practice problems/loan prediction/train_u6lujuX_CVtuZ9i.csv'\n",
    "loan_pred_data = pd.read_csv(file)\n",
    "loan_pred_data.columns"
   ]
  },
  {
   "cell_type": "code",
   "execution_count": 3,
   "metadata": {},
   "outputs": [
    {
     "data": {
      "text/html": [
       "<div>\n",
       "<style scoped>\n",
       "    .dataframe tbody tr th:only-of-type {\n",
       "        vertical-align: middle;\n",
       "    }\n",
       "\n",
       "    .dataframe tbody tr th {\n",
       "        vertical-align: top;\n",
       "    }\n",
       "\n",
       "    .dataframe thead th {\n",
       "        text-align: right;\n",
       "    }\n",
       "</style>\n",
       "<table border=\"1\" class=\"dataframe\">\n",
       "  <thead>\n",
       "    <tr style=\"text-align: right;\">\n",
       "      <th></th>\n",
       "      <th>Loan_ID</th>\n",
       "      <th>Gender</th>\n",
       "      <th>Married</th>\n",
       "      <th>Dependents</th>\n",
       "      <th>Education</th>\n",
       "      <th>Self_Employed</th>\n",
       "      <th>ApplicantIncome</th>\n",
       "      <th>CoapplicantIncome</th>\n",
       "      <th>LoanAmount</th>\n",
       "      <th>Loan_Amount_Term</th>\n",
       "      <th>Credit_History</th>\n",
       "      <th>Property_Area</th>\n",
       "      <th>Loan_Status</th>\n",
       "    </tr>\n",
       "  </thead>\n",
       "  <tbody>\n",
       "    <tr>\n",
       "      <th>0</th>\n",
       "      <td>LP001002</td>\n",
       "      <td>Male</td>\n",
       "      <td>No</td>\n",
       "      <td>0</td>\n",
       "      <td>Graduate</td>\n",
       "      <td>No</td>\n",
       "      <td>5849</td>\n",
       "      <td>0.0</td>\n",
       "      <td>NaN</td>\n",
       "      <td>360.0</td>\n",
       "      <td>1.0</td>\n",
       "      <td>Urban</td>\n",
       "      <td>Y</td>\n",
       "    </tr>\n",
       "    <tr>\n",
       "      <th>1</th>\n",
       "      <td>LP001003</td>\n",
       "      <td>Male</td>\n",
       "      <td>Yes</td>\n",
       "      <td>1</td>\n",
       "      <td>Graduate</td>\n",
       "      <td>No</td>\n",
       "      <td>4583</td>\n",
       "      <td>1508.0</td>\n",
       "      <td>128.0</td>\n",
       "      <td>360.0</td>\n",
       "      <td>1.0</td>\n",
       "      <td>Rural</td>\n",
       "      <td>N</td>\n",
       "    </tr>\n",
       "    <tr>\n",
       "      <th>2</th>\n",
       "      <td>LP001005</td>\n",
       "      <td>Male</td>\n",
       "      <td>Yes</td>\n",
       "      <td>0</td>\n",
       "      <td>Graduate</td>\n",
       "      <td>Yes</td>\n",
       "      <td>3000</td>\n",
       "      <td>0.0</td>\n",
       "      <td>66.0</td>\n",
       "      <td>360.0</td>\n",
       "      <td>1.0</td>\n",
       "      <td>Urban</td>\n",
       "      <td>Y</td>\n",
       "    </tr>\n",
       "    <tr>\n",
       "      <th>3</th>\n",
       "      <td>LP001006</td>\n",
       "      <td>Male</td>\n",
       "      <td>Yes</td>\n",
       "      <td>0</td>\n",
       "      <td>Not Graduate</td>\n",
       "      <td>No</td>\n",
       "      <td>2583</td>\n",
       "      <td>2358.0</td>\n",
       "      <td>120.0</td>\n",
       "      <td>360.0</td>\n",
       "      <td>1.0</td>\n",
       "      <td>Urban</td>\n",
       "      <td>Y</td>\n",
       "    </tr>\n",
       "    <tr>\n",
       "      <th>4</th>\n",
       "      <td>LP001008</td>\n",
       "      <td>Male</td>\n",
       "      <td>No</td>\n",
       "      <td>0</td>\n",
       "      <td>Graduate</td>\n",
       "      <td>No</td>\n",
       "      <td>6000</td>\n",
       "      <td>0.0</td>\n",
       "      <td>141.0</td>\n",
       "      <td>360.0</td>\n",
       "      <td>1.0</td>\n",
       "      <td>Urban</td>\n",
       "      <td>Y</td>\n",
       "    </tr>\n",
       "  </tbody>\n",
       "</table>\n",
       "</div>"
      ],
      "text/plain": [
       "    Loan_ID Gender Married Dependents     Education Self_Employed  \\\n",
       "0  LP001002   Male      No          0      Graduate            No   \n",
       "1  LP001003   Male     Yes          1      Graduate            No   \n",
       "2  LP001005   Male     Yes          0      Graduate           Yes   \n",
       "3  LP001006   Male     Yes          0  Not Graduate            No   \n",
       "4  LP001008   Male      No          0      Graduate            No   \n",
       "\n",
       "   ApplicantIncome  CoapplicantIncome  LoanAmount  Loan_Amount_Term  \\\n",
       "0             5849                0.0         NaN             360.0   \n",
       "1             4583             1508.0       128.0             360.0   \n",
       "2             3000                0.0        66.0             360.0   \n",
       "3             2583             2358.0       120.0             360.0   \n",
       "4             6000                0.0       141.0             360.0   \n",
       "\n",
       "   Credit_History Property_Area Loan_Status  \n",
       "0             1.0         Urban           Y  \n",
       "1             1.0         Rural           N  \n",
       "2             1.0         Urban           Y  \n",
       "3             1.0         Urban           Y  \n",
       "4             1.0         Urban           Y  "
      ]
     },
     "execution_count": 3,
     "metadata": {},
     "output_type": "execute_result"
    }
   ],
   "source": [
    "loan_pred_data.head()"
   ]
  },
  {
   "cell_type": "code",
   "execution_count": 4,
   "metadata": {},
   "outputs": [
    {
     "data": {
      "text/plain": [
       "614"
      ]
     },
     "execution_count": 4,
     "metadata": {},
     "output_type": "execute_result"
    }
   ],
   "source": [
    "len(loan_pred_data)"
   ]
  },
  {
   "cell_type": "code",
   "execution_count": 5,
   "metadata": {},
   "outputs": [],
   "source": [
    "#del loan_pred_data['Loan_ID']"
   ]
  },
  {
   "cell_type": "code",
   "execution_count": 6,
   "metadata": {},
   "outputs": [],
   "source": [
    "#loan_pred_data.head()"
   ]
  },
  {
   "cell_type": "code",
   "execution_count": 7,
   "metadata": {},
   "outputs": [
    {
     "data": {
      "text/html": [
       "<div>\n",
       "<style scoped>\n",
       "    .dataframe tbody tr th:only-of-type {\n",
       "        vertical-align: middle;\n",
       "    }\n",
       "\n",
       "    .dataframe tbody tr th {\n",
       "        vertical-align: top;\n",
       "    }\n",
       "\n",
       "    .dataframe thead th {\n",
       "        text-align: right;\n",
       "    }\n",
       "</style>\n",
       "<table border=\"1\" class=\"dataframe\">\n",
       "  <thead>\n",
       "    <tr style=\"text-align: right;\">\n",
       "      <th></th>\n",
       "      <th>Gender</th>\n",
       "      <th>Married</th>\n",
       "      <th>Education</th>\n",
       "      <th>Self_Employed</th>\n",
       "      <th>ApplicantIncome</th>\n",
       "      <th>CoapplicantIncome</th>\n",
       "      <th>LoanAmount</th>\n",
       "      <th>Loan_Amount_Term</th>\n",
       "      <th>Credit_History</th>\n",
       "      <th>Property_Area</th>\n",
       "      <th>Loan_Status</th>\n",
       "    </tr>\n",
       "  </thead>\n",
       "  <tbody>\n",
       "    <tr>\n",
       "      <th>0</th>\n",
       "      <td>Male</td>\n",
       "      <td>No</td>\n",
       "      <td>Graduate</td>\n",
       "      <td>No</td>\n",
       "      <td>5849</td>\n",
       "      <td>0.0</td>\n",
       "      <td>NaN</td>\n",
       "      <td>360.0</td>\n",
       "      <td>1.0</td>\n",
       "      <td>Urban</td>\n",
       "      <td>Y</td>\n",
       "    </tr>\n",
       "    <tr>\n",
       "      <th>1</th>\n",
       "      <td>Male</td>\n",
       "      <td>Yes</td>\n",
       "      <td>Graduate</td>\n",
       "      <td>No</td>\n",
       "      <td>4583</td>\n",
       "      <td>1508.0</td>\n",
       "      <td>128.0</td>\n",
       "      <td>360.0</td>\n",
       "      <td>1.0</td>\n",
       "      <td>Rural</td>\n",
       "      <td>N</td>\n",
       "    </tr>\n",
       "    <tr>\n",
       "      <th>2</th>\n",
       "      <td>Male</td>\n",
       "      <td>Yes</td>\n",
       "      <td>Graduate</td>\n",
       "      <td>Yes</td>\n",
       "      <td>3000</td>\n",
       "      <td>0.0</td>\n",
       "      <td>66.0</td>\n",
       "      <td>360.0</td>\n",
       "      <td>1.0</td>\n",
       "      <td>Urban</td>\n",
       "      <td>Y</td>\n",
       "    </tr>\n",
       "    <tr>\n",
       "      <th>3</th>\n",
       "      <td>Male</td>\n",
       "      <td>Yes</td>\n",
       "      <td>Not Graduate</td>\n",
       "      <td>No</td>\n",
       "      <td>2583</td>\n",
       "      <td>2358.0</td>\n",
       "      <td>120.0</td>\n",
       "      <td>360.0</td>\n",
       "      <td>1.0</td>\n",
       "      <td>Urban</td>\n",
       "      <td>Y</td>\n",
       "    </tr>\n",
       "    <tr>\n",
       "      <th>4</th>\n",
       "      <td>Male</td>\n",
       "      <td>No</td>\n",
       "      <td>Graduate</td>\n",
       "      <td>No</td>\n",
       "      <td>6000</td>\n",
       "      <td>0.0</td>\n",
       "      <td>141.0</td>\n",
       "      <td>360.0</td>\n",
       "      <td>1.0</td>\n",
       "      <td>Urban</td>\n",
       "      <td>Y</td>\n",
       "    </tr>\n",
       "  </tbody>\n",
       "</table>\n",
       "</div>"
      ],
      "text/plain": [
       "  Gender Married     Education Self_Employed  ApplicantIncome  \\\n",
       "0   Male      No      Graduate            No             5849   \n",
       "1   Male     Yes      Graduate            No             4583   \n",
       "2   Male     Yes      Graduate           Yes             3000   \n",
       "3   Male     Yes  Not Graduate            No             2583   \n",
       "4   Male      No      Graduate            No             6000   \n",
       "\n",
       "   CoapplicantIncome  LoanAmount  Loan_Amount_Term  Credit_History  \\\n",
       "0                0.0         NaN             360.0             1.0   \n",
       "1             1508.0       128.0             360.0             1.0   \n",
       "2                0.0        66.0             360.0             1.0   \n",
       "3             2358.0       120.0             360.0             1.0   \n",
       "4                0.0       141.0             360.0             1.0   \n",
       "\n",
       "  Property_Area Loan_Status  \n",
       "0         Urban           Y  \n",
       "1         Rural           N  \n",
       "2         Urban           Y  \n",
       "3         Urban           Y  \n",
       "4         Urban           Y  "
      ]
     },
     "execution_count": 7,
     "metadata": {},
     "output_type": "execute_result"
    }
   ],
   "source": [
    "loan_df = loan_pred_data[['Gender','Married','Education','Self_Employed','ApplicantIncome','CoapplicantIncome',\n",
    "                         'LoanAmount','Loan_Amount_Term','Credit_History','Property_Area','Loan_Status']]\n",
    "loan_df.head()"
   ]
  },
  {
   "cell_type": "code",
   "execution_count": 8,
   "metadata": {},
   "outputs": [
    {
     "name": "stdout",
     "output_type": "stream",
     "text": [
      "<class 'pandas.core.frame.DataFrame'>\n",
      "RangeIndex: 614 entries, 0 to 613\n",
      "Data columns (total 11 columns):\n",
      "Gender               601 non-null object\n",
      "Married              611 non-null object\n",
      "Education            614 non-null object\n",
      "Self_Employed        582 non-null object\n",
      "ApplicantIncome      614 non-null int64\n",
      "CoapplicantIncome    614 non-null float64\n",
      "LoanAmount           592 non-null float64\n",
      "Loan_Amount_Term     600 non-null float64\n",
      "Credit_History       564 non-null float64\n",
      "Property_Area        614 non-null object\n",
      "Loan_Status          614 non-null object\n",
      "dtypes: float64(4), int64(1), object(6)\n",
      "memory usage: 52.8+ KB\n"
     ]
    }
   ],
   "source": [
    "loan_df.info()"
   ]
  },
  {
   "cell_type": "code",
   "execution_count": 9,
   "metadata": {},
   "outputs": [
    {
     "data": {
      "text/html": [
       "<div>\n",
       "<style scoped>\n",
       "    .dataframe tbody tr th:only-of-type {\n",
       "        vertical-align: middle;\n",
       "    }\n",
       "\n",
       "    .dataframe tbody tr th {\n",
       "        vertical-align: top;\n",
       "    }\n",
       "\n",
       "    .dataframe thead th {\n",
       "        text-align: right;\n",
       "    }\n",
       "</style>\n",
       "<table border=\"1\" class=\"dataframe\">\n",
       "  <thead>\n",
       "    <tr style=\"text-align: right;\">\n",
       "      <th></th>\n",
       "      <th>Gender</th>\n",
       "      <th>Married</th>\n",
       "      <th>Education</th>\n",
       "      <th>Self_Employed</th>\n",
       "      <th>ApplicantIncome</th>\n",
       "      <th>CoapplicantIncome</th>\n",
       "      <th>LoanAmount</th>\n",
       "      <th>Loan_Amount_Term</th>\n",
       "      <th>Credit_History</th>\n",
       "      <th>Property_Area</th>\n",
       "      <th>Loan_Status</th>\n",
       "    </tr>\n",
       "  </thead>\n",
       "  <tbody>\n",
       "    <tr>\n",
       "      <th>1</th>\n",
       "      <td>Male</td>\n",
       "      <td>Yes</td>\n",
       "      <td>Graduate</td>\n",
       "      <td>No</td>\n",
       "      <td>4583</td>\n",
       "      <td>1508.0</td>\n",
       "      <td>128.0</td>\n",
       "      <td>360.0</td>\n",
       "      <td>1.0</td>\n",
       "      <td>Rural</td>\n",
       "      <td>N</td>\n",
       "    </tr>\n",
       "    <tr>\n",
       "      <th>2</th>\n",
       "      <td>Male</td>\n",
       "      <td>Yes</td>\n",
       "      <td>Graduate</td>\n",
       "      <td>Yes</td>\n",
       "      <td>3000</td>\n",
       "      <td>0.0</td>\n",
       "      <td>66.0</td>\n",
       "      <td>360.0</td>\n",
       "      <td>1.0</td>\n",
       "      <td>Urban</td>\n",
       "      <td>Y</td>\n",
       "    </tr>\n",
       "    <tr>\n",
       "      <th>3</th>\n",
       "      <td>Male</td>\n",
       "      <td>Yes</td>\n",
       "      <td>Not Graduate</td>\n",
       "      <td>No</td>\n",
       "      <td>2583</td>\n",
       "      <td>2358.0</td>\n",
       "      <td>120.0</td>\n",
       "      <td>360.0</td>\n",
       "      <td>1.0</td>\n",
       "      <td>Urban</td>\n",
       "      <td>Y</td>\n",
       "    </tr>\n",
       "    <tr>\n",
       "      <th>4</th>\n",
       "      <td>Male</td>\n",
       "      <td>No</td>\n",
       "      <td>Graduate</td>\n",
       "      <td>No</td>\n",
       "      <td>6000</td>\n",
       "      <td>0.0</td>\n",
       "      <td>141.0</td>\n",
       "      <td>360.0</td>\n",
       "      <td>1.0</td>\n",
       "      <td>Urban</td>\n",
       "      <td>Y</td>\n",
       "    </tr>\n",
       "    <tr>\n",
       "      <th>5</th>\n",
       "      <td>Male</td>\n",
       "      <td>Yes</td>\n",
       "      <td>Graduate</td>\n",
       "      <td>Yes</td>\n",
       "      <td>5417</td>\n",
       "      <td>4196.0</td>\n",
       "      <td>267.0</td>\n",
       "      <td>360.0</td>\n",
       "      <td>1.0</td>\n",
       "      <td>Urban</td>\n",
       "      <td>Y</td>\n",
       "    </tr>\n",
       "  </tbody>\n",
       "</table>\n",
       "</div>"
      ],
      "text/plain": [
       "  Gender Married     Education Self_Employed  ApplicantIncome  \\\n",
       "1   Male     Yes      Graduate            No             4583   \n",
       "2   Male     Yes      Graduate           Yes             3000   \n",
       "3   Male     Yes  Not Graduate            No             2583   \n",
       "4   Male      No      Graduate            No             6000   \n",
       "5   Male     Yes      Graduate           Yes             5417   \n",
       "\n",
       "   CoapplicantIncome  LoanAmount  Loan_Amount_Term  Credit_History  \\\n",
       "1             1508.0       128.0             360.0             1.0   \n",
       "2                0.0        66.0             360.0             1.0   \n",
       "3             2358.0       120.0             360.0             1.0   \n",
       "4                0.0       141.0             360.0             1.0   \n",
       "5             4196.0       267.0             360.0             1.0   \n",
       "\n",
       "  Property_Area Loan_Status  \n",
       "1         Rural           N  \n",
       "2         Urban           Y  \n",
       "3         Urban           Y  \n",
       "4         Urban           Y  \n",
       "5         Urban           Y  "
      ]
     },
     "execution_count": 9,
     "metadata": {},
     "output_type": "execute_result"
    }
   ],
   "source": [
    "# the dataframe loan_df has some missing data and we would drop the missing values with the dropna() function.\n",
    "\n",
    "loan_df = loan_df.dropna()\n",
    "loan_df.head()"
   ]
  },
  {
   "cell_type": "code",
   "execution_count": 10,
   "metadata": {},
   "outputs": [
    {
     "data": {
      "text/plain": [
       "490"
      ]
     },
     "execution_count": 10,
     "metadata": {},
     "output_type": "execute_result"
    }
   ],
   "source": [
    "# to check for te length of the datadrame after missing values ahs been dropped.\n",
    "\n",
    "len(loan_df)"
   ]
  },
  {
   "cell_type": "code",
   "execution_count": 11,
   "metadata": {},
   "outputs": [
    {
     "data": {
      "text/plain": [
       "(490, 11)"
      ]
     },
     "execution_count": 11,
     "metadata": {},
     "output_type": "execute_result"
    }
   ],
   "source": [
    "loan_df.shape"
   ]
  },
  {
   "cell_type": "code",
   "execution_count": 12,
   "metadata": {},
   "outputs": [
    {
     "data": {
      "text/plain": [
       "Gender                object\n",
       "Married               object\n",
       "Education             object\n",
       "Self_Employed         object\n",
       "ApplicantIncome        int64\n",
       "CoapplicantIncome    float64\n",
       "LoanAmount           float64\n",
       "Loan_Amount_Term     float64\n",
       "Credit_History       float64\n",
       "Property_Area         object\n",
       "Loan_Status           object\n",
       "dtype: object"
      ]
     },
     "execution_count": 12,
     "metadata": {},
     "output_type": "execute_result"
    }
   ],
   "source": [
    "loan_df.dtypes # for loan_df data types"
   ]
  },
  {
   "cell_type": "markdown",
   "metadata": {},
   "source": [
    "for the dataset, the amount of observations has been reduced from 614 to 480 after the dropna() function has been applied to the dataset.\n",
    "\n",
    "looking at the data types of the various featurs in the dataaet, all the features have their appropriate data types"
   ]
  },
  {
   "cell_type": "code",
   "execution_count": 13,
   "metadata": {},
   "outputs": [
    {
     "data": {
      "text/plain": [
       "Gender               False\n",
       "Married              False\n",
       "Education            False\n",
       "Self_Employed        False\n",
       "ApplicantIncome      False\n",
       "CoapplicantIncome    False\n",
       "LoanAmount           False\n",
       "Loan_Amount_Term     False\n",
       "Credit_History       False\n",
       "Property_Area        False\n",
       "Loan_Status          False\n",
       "dtype: bool"
      ]
     },
     "execution_count": 13,
     "metadata": {},
     "output_type": "execute_result"
    }
   ],
   "source": [
    "loan_df.isnull().any() # to confirm no missing values"
   ]
  },
  {
   "cell_type": "code",
   "execution_count": 14,
   "metadata": {},
   "outputs": [
    {
     "data": {
      "text/html": [
       "<div>\n",
       "<style scoped>\n",
       "    .dataframe tbody tr th:only-of-type {\n",
       "        vertical-align: middle;\n",
       "    }\n",
       "\n",
       "    .dataframe tbody tr th {\n",
       "        vertical-align: top;\n",
       "    }\n",
       "\n",
       "    .dataframe thead th {\n",
       "        text-align: right;\n",
       "    }\n",
       "</style>\n",
       "<table border=\"1\" class=\"dataframe\">\n",
       "  <thead>\n",
       "    <tr style=\"text-align: right;\">\n",
       "      <th></th>\n",
       "      <th>Gender</th>\n",
       "      <th>Married</th>\n",
       "      <th>Education</th>\n",
       "      <th>Self_Employed</th>\n",
       "      <th>ApplicantIncome</th>\n",
       "      <th>CoapplicantIncome</th>\n",
       "      <th>LoanAmount</th>\n",
       "      <th>Loan_Amount_Term</th>\n",
       "      <th>Credit_History</th>\n",
       "      <th>Property_Area</th>\n",
       "      <th>Loan_Status</th>\n",
       "    </tr>\n",
       "  </thead>\n",
       "  <tbody>\n",
       "    <tr>\n",
       "      <th>609</th>\n",
       "      <td>Female</td>\n",
       "      <td>No</td>\n",
       "      <td>Graduate</td>\n",
       "      <td>No</td>\n",
       "      <td>2900</td>\n",
       "      <td>0.0</td>\n",
       "      <td>71.0</td>\n",
       "      <td>360.0</td>\n",
       "      <td>1.0</td>\n",
       "      <td>Rural</td>\n",
       "      <td>Y</td>\n",
       "    </tr>\n",
       "    <tr>\n",
       "      <th>610</th>\n",
       "      <td>Male</td>\n",
       "      <td>Yes</td>\n",
       "      <td>Graduate</td>\n",
       "      <td>No</td>\n",
       "      <td>4106</td>\n",
       "      <td>0.0</td>\n",
       "      <td>40.0</td>\n",
       "      <td>180.0</td>\n",
       "      <td>1.0</td>\n",
       "      <td>Rural</td>\n",
       "      <td>Y</td>\n",
       "    </tr>\n",
       "    <tr>\n",
       "      <th>611</th>\n",
       "      <td>Male</td>\n",
       "      <td>Yes</td>\n",
       "      <td>Graduate</td>\n",
       "      <td>No</td>\n",
       "      <td>8072</td>\n",
       "      <td>240.0</td>\n",
       "      <td>253.0</td>\n",
       "      <td>360.0</td>\n",
       "      <td>1.0</td>\n",
       "      <td>Urban</td>\n",
       "      <td>Y</td>\n",
       "    </tr>\n",
       "    <tr>\n",
       "      <th>612</th>\n",
       "      <td>Male</td>\n",
       "      <td>Yes</td>\n",
       "      <td>Graduate</td>\n",
       "      <td>No</td>\n",
       "      <td>7583</td>\n",
       "      <td>0.0</td>\n",
       "      <td>187.0</td>\n",
       "      <td>360.0</td>\n",
       "      <td>1.0</td>\n",
       "      <td>Urban</td>\n",
       "      <td>Y</td>\n",
       "    </tr>\n",
       "    <tr>\n",
       "      <th>613</th>\n",
       "      <td>Female</td>\n",
       "      <td>No</td>\n",
       "      <td>Graduate</td>\n",
       "      <td>Yes</td>\n",
       "      <td>4583</td>\n",
       "      <td>0.0</td>\n",
       "      <td>133.0</td>\n",
       "      <td>360.0</td>\n",
       "      <td>0.0</td>\n",
       "      <td>Semiurban</td>\n",
       "      <td>N</td>\n",
       "    </tr>\n",
       "  </tbody>\n",
       "</table>\n",
       "</div>"
      ],
      "text/plain": [
       "     Gender Married Education Self_Employed  ApplicantIncome  \\\n",
       "609  Female      No  Graduate            No             2900   \n",
       "610    Male     Yes  Graduate            No             4106   \n",
       "611    Male     Yes  Graduate            No             8072   \n",
       "612    Male     Yes  Graduate            No             7583   \n",
       "613  Female      No  Graduate           Yes             4583   \n",
       "\n",
       "     CoapplicantIncome  LoanAmount  Loan_Amount_Term  Credit_History  \\\n",
       "609                0.0        71.0             360.0             1.0   \n",
       "610                0.0        40.0             180.0             1.0   \n",
       "611              240.0       253.0             360.0             1.0   \n",
       "612                0.0       187.0             360.0             1.0   \n",
       "613                0.0       133.0             360.0             0.0   \n",
       "\n",
       "    Property_Area Loan_Status  \n",
       "609         Rural           Y  \n",
       "610         Rural           Y  \n",
       "611         Urban           Y  \n",
       "612         Urban           Y  \n",
       "613     Semiurban           N  "
      ]
     },
     "execution_count": 14,
     "metadata": {},
     "output_type": "execute_result"
    }
   ],
   "source": [
    "loan_df.tail()"
   ]
  },
  {
   "cell_type": "code",
   "execution_count": 15,
   "metadata": {},
   "outputs": [
    {
     "data": {
      "text/html": [
       "<div>\n",
       "<style scoped>\n",
       "    .dataframe tbody tr th:only-of-type {\n",
       "        vertical-align: middle;\n",
       "    }\n",
       "\n",
       "    .dataframe tbody tr th {\n",
       "        vertical-align: top;\n",
       "    }\n",
       "\n",
       "    .dataframe thead th {\n",
       "        text-align: right;\n",
       "    }\n",
       "</style>\n",
       "<table border=\"1\" class=\"dataframe\">\n",
       "  <thead>\n",
       "    <tr style=\"text-align: right;\">\n",
       "      <th></th>\n",
       "      <th>Gender</th>\n",
       "      <th>Married</th>\n",
       "      <th>Education</th>\n",
       "      <th>Self_Employed</th>\n",
       "      <th>ApplicantIncome</th>\n",
       "      <th>CoapplicantIncome</th>\n",
       "      <th>LoanAmount</th>\n",
       "      <th>Loan_Amount_Term</th>\n",
       "      <th>Credit_History</th>\n",
       "      <th>Property_Area</th>\n",
       "      <th>Loan_Status</th>\n",
       "    </tr>\n",
       "  </thead>\n",
       "  <tbody>\n",
       "    <tr>\n",
       "      <th>count</th>\n",
       "      <td>490</td>\n",
       "      <td>490</td>\n",
       "      <td>490</td>\n",
       "      <td>490</td>\n",
       "      <td>490.000000</td>\n",
       "      <td>490.000000</td>\n",
       "      <td>490.000000</td>\n",
       "      <td>490.000000</td>\n",
       "      <td>490.000000</td>\n",
       "      <td>490</td>\n",
       "      <td>490</td>\n",
       "    </tr>\n",
       "    <tr>\n",
       "      <th>unique</th>\n",
       "      <td>2</td>\n",
       "      <td>2</td>\n",
       "      <td>2</td>\n",
       "      <td>2</td>\n",
       "      <td>NaN</td>\n",
       "      <td>NaN</td>\n",
       "      <td>NaN</td>\n",
       "      <td>NaN</td>\n",
       "      <td>NaN</td>\n",
       "      <td>3</td>\n",
       "      <td>2</td>\n",
       "    </tr>\n",
       "    <tr>\n",
       "      <th>top</th>\n",
       "      <td>Male</td>\n",
       "      <td>Yes</td>\n",
       "      <td>Graduate</td>\n",
       "      <td>No</td>\n",
       "      <td>NaN</td>\n",
       "      <td>NaN</td>\n",
       "      <td>NaN</td>\n",
       "      <td>NaN</td>\n",
       "      <td>NaN</td>\n",
       "      <td>Semiurban</td>\n",
       "      <td>Y</td>\n",
       "    </tr>\n",
       "    <tr>\n",
       "      <th>freq</th>\n",
       "      <td>402</td>\n",
       "      <td>317</td>\n",
       "      <td>389</td>\n",
       "      <td>423</td>\n",
       "      <td>NaN</td>\n",
       "      <td>NaN</td>\n",
       "      <td>NaN</td>\n",
       "      <td>NaN</td>\n",
       "      <td>NaN</td>\n",
       "      <td>194</td>\n",
       "      <td>336</td>\n",
       "    </tr>\n",
       "    <tr>\n",
       "      <th>mean</th>\n",
       "      <td>NaN</td>\n",
       "      <td>NaN</td>\n",
       "      <td>NaN</td>\n",
       "      <td>NaN</td>\n",
       "      <td>5336.471429</td>\n",
       "      <td>1571.067184</td>\n",
       "      <td>144.395918</td>\n",
       "      <td>342.293878</td>\n",
       "      <td>0.846939</td>\n",
       "      <td>NaN</td>\n",
       "      <td>NaN</td>\n",
       "    </tr>\n",
       "    <tr>\n",
       "      <th>std</th>\n",
       "      <td>NaN</td>\n",
       "      <td>NaN</td>\n",
       "      <td>NaN</td>\n",
       "      <td>NaN</td>\n",
       "      <td>5615.363138</td>\n",
       "      <td>2597.269023</td>\n",
       "      <td>79.850335</td>\n",
       "      <td>65.295642</td>\n",
       "      <td>0.360414</td>\n",
       "      <td>NaN</td>\n",
       "      <td>NaN</td>\n",
       "    </tr>\n",
       "    <tr>\n",
       "      <th>min</th>\n",
       "      <td>NaN</td>\n",
       "      <td>NaN</td>\n",
       "      <td>NaN</td>\n",
       "      <td>NaN</td>\n",
       "      <td>150.000000</td>\n",
       "      <td>0.000000</td>\n",
       "      <td>9.000000</td>\n",
       "      <td>36.000000</td>\n",
       "      <td>0.000000</td>\n",
       "      <td>NaN</td>\n",
       "      <td>NaN</td>\n",
       "    </tr>\n",
       "    <tr>\n",
       "      <th>25%</th>\n",
       "      <td>NaN</td>\n",
       "      <td>NaN</td>\n",
       "      <td>NaN</td>\n",
       "      <td>NaN</td>\n",
       "      <td>2904.250000</td>\n",
       "      <td>0.000000</td>\n",
       "      <td>100.000000</td>\n",
       "      <td>360.000000</td>\n",
       "      <td>1.000000</td>\n",
       "      <td>NaN</td>\n",
       "      <td>NaN</td>\n",
       "    </tr>\n",
       "    <tr>\n",
       "      <th>50%</th>\n",
       "      <td>NaN</td>\n",
       "      <td>NaN</td>\n",
       "      <td>NaN</td>\n",
       "      <td>NaN</td>\n",
       "      <td>3858.500000</td>\n",
       "      <td>1084.500000</td>\n",
       "      <td>128.000000</td>\n",
       "      <td>360.000000</td>\n",
       "      <td>1.000000</td>\n",
       "      <td>NaN</td>\n",
       "      <td>NaN</td>\n",
       "    </tr>\n",
       "    <tr>\n",
       "      <th>75%</th>\n",
       "      <td>NaN</td>\n",
       "      <td>NaN</td>\n",
       "      <td>NaN</td>\n",
       "      <td>NaN</td>\n",
       "      <td>5818.750000</td>\n",
       "      <td>2252.250000</td>\n",
       "      <td>169.500000</td>\n",
       "      <td>360.000000</td>\n",
       "      <td>1.000000</td>\n",
       "      <td>NaN</td>\n",
       "      <td>NaN</td>\n",
       "    </tr>\n",
       "    <tr>\n",
       "      <th>max</th>\n",
       "      <td>NaN</td>\n",
       "      <td>NaN</td>\n",
       "      <td>NaN</td>\n",
       "      <td>NaN</td>\n",
       "      <td>81000.000000</td>\n",
       "      <td>33837.000000</td>\n",
       "      <td>600.000000</td>\n",
       "      <td>480.000000</td>\n",
       "      <td>1.000000</td>\n",
       "      <td>NaN</td>\n",
       "      <td>NaN</td>\n",
       "    </tr>\n",
       "  </tbody>\n",
       "</table>\n",
       "</div>"
      ],
      "text/plain": [
       "       Gender Married Education Self_Employed  ApplicantIncome  \\\n",
       "count     490     490       490           490       490.000000   \n",
       "unique      2       2         2             2              NaN   \n",
       "top      Male     Yes  Graduate            No              NaN   \n",
       "freq      402     317       389           423              NaN   \n",
       "mean      NaN     NaN       NaN           NaN      5336.471429   \n",
       "std       NaN     NaN       NaN           NaN      5615.363138   \n",
       "min       NaN     NaN       NaN           NaN       150.000000   \n",
       "25%       NaN     NaN       NaN           NaN      2904.250000   \n",
       "50%       NaN     NaN       NaN           NaN      3858.500000   \n",
       "75%       NaN     NaN       NaN           NaN      5818.750000   \n",
       "max       NaN     NaN       NaN           NaN     81000.000000   \n",
       "\n",
       "        CoapplicantIncome  LoanAmount  Loan_Amount_Term  Credit_History  \\\n",
       "count          490.000000  490.000000        490.000000      490.000000   \n",
       "unique                NaN         NaN               NaN             NaN   \n",
       "top                   NaN         NaN               NaN             NaN   \n",
       "freq                  NaN         NaN               NaN             NaN   \n",
       "mean          1571.067184  144.395918        342.293878        0.846939   \n",
       "std           2597.269023   79.850335         65.295642        0.360414   \n",
       "min              0.000000    9.000000         36.000000        0.000000   \n",
       "25%              0.000000  100.000000        360.000000        1.000000   \n",
       "50%           1084.500000  128.000000        360.000000        1.000000   \n",
       "75%           2252.250000  169.500000        360.000000        1.000000   \n",
       "max          33837.000000  600.000000        480.000000        1.000000   \n",
       "\n",
       "       Property_Area Loan_Status  \n",
       "count            490         490  \n",
       "unique             3           2  \n",
       "top        Semiurban           Y  \n",
       "freq             194         336  \n",
       "mean             NaN         NaN  \n",
       "std              NaN         NaN  \n",
       "min              NaN         NaN  \n",
       "25%              NaN         NaN  \n",
       "50%              NaN         NaN  \n",
       "75%              NaN         NaN  \n",
       "max              NaN         NaN  "
      ]
     },
     "execution_count": 15,
     "metadata": {},
     "output_type": "execute_result"
    }
   ],
   "source": [
    "# descriptive statistics with loan_df using the describe function.\n",
    "\n",
    "loan_df.describe(include='all')"
   ]
  },
  {
   "cell_type": "markdown",
   "metadata": {},
   "source": [
    "from the descriptive statistics of the data in the above cell; out of 480 people applying for the loan application, there are more males(394) applying for loans in the gender category, in the married category 311 people are married and 383 are educated and 414 people are not self employed. \n",
    "The much number of males applying for loans could be as a result that most males are bread winners in the family or there are more males trying to run a business. The Married people applying for loans are much, could this mean more couples are going into financial crisis or looking at the number of self employed people applying for loans are they trying to start a side business to become entrpreneurs?\n"
   ]
  },
  {
   "cell_type": "code",
   "execution_count": 16,
   "metadata": {},
   "outputs": [],
   "source": [
    "#mean_LoanAmount = loan_df['LoanAmount'].mean()\n",
    "#loan_df['LoanAmount'].replace(np.nan,mean_LoanAmount)"
   ]
  },
  {
   "cell_type": "code",
   "execution_count": 17,
   "metadata": {},
   "outputs": [
    {
     "data": {
      "text/html": [
       "<div>\n",
       "<style scoped>\n",
       "    .dataframe tbody tr th:only-of-type {\n",
       "        vertical-align: middle;\n",
       "    }\n",
       "\n",
       "    .dataframe tbody tr th {\n",
       "        vertical-align: top;\n",
       "    }\n",
       "\n",
       "    .dataframe thead th {\n",
       "        text-align: right;\n",
       "    }\n",
       "</style>\n",
       "<table border=\"1\" class=\"dataframe\">\n",
       "  <thead>\n",
       "    <tr style=\"text-align: right;\">\n",
       "      <th></th>\n",
       "      <th>ApplicantIncome</th>\n",
       "      <th>CoapplicantIncome</th>\n",
       "      <th>LoanAmount</th>\n",
       "      <th>Loan_Amount_Term</th>\n",
       "      <th>Credit_History</th>\n",
       "    </tr>\n",
       "  </thead>\n",
       "  <tbody>\n",
       "    <tr>\n",
       "      <th>ApplicantIncome</th>\n",
       "      <td>1.000000</td>\n",
       "      <td>-0.111163</td>\n",
       "      <td>0.496095</td>\n",
       "      <td>-0.010453</td>\n",
       "      <td>-0.049757</td>\n",
       "    </tr>\n",
       "    <tr>\n",
       "      <th>CoapplicantIncome</th>\n",
       "      <td>-0.111163</td>\n",
       "      <td>1.000000</td>\n",
       "      <td>0.192814</td>\n",
       "      <td>-0.005599</td>\n",
       "      <td>-0.006943</td>\n",
       "    </tr>\n",
       "    <tr>\n",
       "      <th>LoanAmount</th>\n",
       "      <td>0.496095</td>\n",
       "      <td>0.192814</td>\n",
       "      <td>1.000000</td>\n",
       "      <td>0.050965</td>\n",
       "      <td>-0.037540</td>\n",
       "    </tr>\n",
       "    <tr>\n",
       "      <th>Loan_Amount_Term</th>\n",
       "      <td>-0.010453</td>\n",
       "      <td>-0.005599</td>\n",
       "      <td>0.050965</td>\n",
       "      <td>1.000000</td>\n",
       "      <td>0.014950</td>\n",
       "    </tr>\n",
       "    <tr>\n",
       "      <th>Credit_History</th>\n",
       "      <td>-0.049757</td>\n",
       "      <td>-0.006943</td>\n",
       "      <td>-0.037540</td>\n",
       "      <td>0.014950</td>\n",
       "      <td>1.000000</td>\n",
       "    </tr>\n",
       "  </tbody>\n",
       "</table>\n",
       "</div>"
      ],
      "text/plain": [
       "                   ApplicantIncome  CoapplicantIncome  LoanAmount  \\\n",
       "ApplicantIncome           1.000000          -0.111163    0.496095   \n",
       "CoapplicantIncome        -0.111163           1.000000    0.192814   \n",
       "LoanAmount                0.496095           0.192814    1.000000   \n",
       "Loan_Amount_Term         -0.010453          -0.005599    0.050965   \n",
       "Credit_History           -0.049757          -0.006943   -0.037540   \n",
       "\n",
       "                   Loan_Amount_Term  Credit_History  \n",
       "ApplicantIncome           -0.010453       -0.049757  \n",
       "CoapplicantIncome         -0.005599       -0.006943  \n",
       "LoanAmount                 0.050965       -0.037540  \n",
       "Loan_Amount_Term           1.000000        0.014950  \n",
       "Credit_History             0.014950        1.000000  "
      ]
     },
     "execution_count": 17,
     "metadata": {},
     "output_type": "execute_result"
    }
   ],
   "source": [
    "#lets check for correlation\n",
    "loan_df.corr()"
   ]
  },
  {
   "cell_type": "code",
   "execution_count": 18,
   "metadata": {},
   "outputs": [
    {
     "data": {
      "text/plain": [
       "<matplotlib.axes._subplots.AxesSubplot at 0xd0421a7d68>"
      ]
     },
     "execution_count": 18,
     "metadata": {},
     "output_type": "execute_result"
    },
    {
     "data": {
      "image/png": "[encoded data removed]",
      "text/plain": [
       "<Figure size 432x288 with 1 Axes>"
      ]
     },
     "metadata": {
      "needs_background": "light"
     },
     "output_type": "display_data"
    }
   ],
   "source": [
    "loan_df.boxplot()"
   ]
  },
  {
   "cell_type": "markdown",
   "metadata": {},
   "source": [
    "A visual representation of the Applicant income, Coapplicant income, Loan Amount, Loan_Amount_Term and credit history on a boxplot. For the applicant income and coapplicant income there are some outliers in the recorded data, like in the applicant znd coapplicant income "
   ]
  },
  {
   "cell_type": "code",
   "execution_count": 19,
   "metadata": {},
   "outputs": [
    {
     "data": {
      "text/plain": [
       "<matplotlib.collections.PathCollection at 0xd0422f7fd0>"
      ]
     },
     "execution_count": 19,
     "metadata": {},
     "output_type": "execute_result"
    },
    {
     "data": {
      "image/png": "[encoded data removed]",
      "text/plain": [
       "<Figure size 432x288 with 1 Axes>"
      ]
     },
     "metadata": {
      "needs_background": "light"
     },
     "output_type": "display_data"
    }
   ],
   "source": [
    "plt.scatter(loan_df['LoanAmount'],loan_df['ApplicantIncome'])"
   ]
  },
  {
   "cell_type": "code",
   "execution_count": 20,
   "metadata": {},
   "outputs": [
    {
     "data": {
      "text/plain": [
       "<matplotlib.collections.PathCollection at 0xd04236ce10>"
      ]
     },
     "execution_count": 20,
     "metadata": {},
     "output_type": "execute_result"
    },
    {
     "data": {
      "image/png": "[encoded data removed]",
      "text/plain": [
       "<Figure size 432x288 with 1 Axes>"
      ]
     },
     "metadata": {
      "needs_background": "light"
     },
     "output_type": "display_data"
    }
   ],
   "source": [
    "plt.scatter(loan_df['LoanAmount'],loan_df['CoapplicantIncome'])"
   ]
  },
  {
   "cell_type": "code",
   "execution_count": 21,
   "metadata": {},
   "outputs": [
    {
     "data": {
      "text/plain": [
       "Male      402\n",
       "Female     88\n",
       "Name: Gender, dtype: int64"
      ]
     },
     "execution_count": 21,
     "metadata": {},
     "output_type": "execute_result"
    }
   ],
   "source": [
    "loan_df_gender_count = loan_df['Gender'].value_counts()\n",
    "loan_df_gender_count"
   ]
  },
  {
   "cell_type": "code",
   "execution_count": 22,
   "metadata": {},
   "outputs": [
    {
     "data": {
      "text/plain": [
       "<matplotlib.axes._subplots.AxesSubplot at 0xd04232de80>"
      ]
     },
     "execution_count": 22,
     "metadata": {},
     "output_type": "execute_result"
    },
    {
     "data": {
      "image/png": "[encoded data removed]",
      "text/plain": [
       "<Figure size 432x432 with 1 Axes>"
      ]
     },
     "metadata": {
      "needs_background": "light"
     },
     "output_type": "display_data"
    }
   ],
   "source": [
    "loan_df_gender_count[:10].plot(kind = 'bar', figsize=(6,6))"
   ]
  },
  {
   "cell_type": "code",
   "execution_count": 23,
   "metadata": {},
   "outputs": [
    {
     "data": {
      "text/plain": [
       "Yes    317\n",
       "No     173\n",
       "Name: Married, dtype: int64"
      ]
     },
     "execution_count": 23,
     "metadata": {},
     "output_type": "execute_result"
    }
   ],
   "source": [
    "loan_df_married_count = loan_df['Married'].value_counts()\n",
    "loan_df_married_count"
   ]
  },
  {
   "cell_type": "code",
   "execution_count": 24,
   "metadata": {},
   "outputs": [
    {
     "data": {
      "text/plain": [
       "<matplotlib.axes._subplots.AxesSubplot at 0xd042428ba8>"
      ]
     },
     "execution_count": 24,
     "metadata": {},
     "output_type": "execute_result"
    },
    {
     "data": {
      "image/png": "[encoded data removed]",
      "text/plain": [
       "<Figure size 432x432 with 1 Axes>"
      ]
     },
     "metadata": {
      "needs_background": "light"
     },
     "output_type": "display_data"
    }
   ],
   "source": [
    "loan_df_gender_count[:10].plot(kind = 'bar', figsize=(6,6))"
   ]
  },
  {
   "cell_type": "code",
   "execution_count": 25,
   "metadata": {},
   "outputs": [
    {
     "data": {
      "text/plain": [
       "Graduate        389\n",
       "Not Graduate    101\n",
       "Name: Education, dtype: int64"
      ]
     },
     "execution_count": 25,
     "metadata": {},
     "output_type": "execute_result"
    }
   ],
   "source": [
    "loan_df_education_count = loan_df['Education'].value_counts()\n",
    "loan_df_education_count"
   ]
  },
  {
   "cell_type": "code",
   "execution_count": 62,
   "metadata": {},
   "outputs": [
    {
     "data": {
      "text/plain": [
       "<matplotlib.axes._subplots.AxesSubplot at 0xd04350a0b8>"
      ]
     },
     "execution_count": 62,
     "metadata": {},
     "output_type": "execute_result"
    },
    {
     "data": {
      "image/png": "[encoded data removed]",
      "text/plain": [
       "<Figure size 432x432 with 1 Axes>"
      ]
     },
     "metadata": {
      "needs_background": "light"
     },
     "output_type": "display_data"
    }
   ],
   "source": [
    "loan_df_education_count[:10].plot(kind = 'bar', figsize=(6,6))"
   ]
  },
  {
   "cell_type": "code",
   "execution_count": 27,
   "metadata": {},
   "outputs": [
    {
     "data": {
      "text/plain": [
       "No     423\n",
       "Yes     67\n",
       "Name: Self_Employed, dtype: int64"
      ]
     },
     "execution_count": 27,
     "metadata": {},
     "output_type": "execute_result"
    }
   ],
   "source": [
    "loan_df_selfemployed_count = loan_df['Self_Employed'].value_counts()\n",
    "loan_df_selfemployed_count"
   ]
  },
  {
   "cell_type": "code",
   "execution_count": 28,
   "metadata": {},
   "outputs": [
    {
     "data": {
      "text/plain": [
       "<matplotlib.axes._subplots.AxesSubplot at 0xd0424db668>"
      ]
     },
     "execution_count": 28,
     "metadata": {},
     "output_type": "execute_result"
    },
    {
     "data": {
      "image/png": "[encoded data removed]",
      "text/plain": [
       "<Figure size 432x432 with 1 Axes>"
      ]
     },
     "metadata": {
      "needs_background": "light"
     },
     "output_type": "display_data"
    }
   ],
   "source": [
    "loan_df_selfemployed_count[:10].plot(kind = 'bar', figsize=(6,6))"
   ]
  },
  {
   "cell_type": "code",
   "execution_count": 29,
   "metadata": {},
   "outputs": [
    {
     "data": {
      "image/png": "[encoded data removed]",
      "text/plain": [
       "<Figure size 1152x1440 with 6 Axes>"
      ]
     },
     "metadata": {
      "needs_background": "light"
     },
     "output_type": "display_data"
    }
   ],
   "source": [
    "#lets plot them them all\n",
    "%matplotlib inline\n",
    "loan_df.hist(figsize=(16, 20), bins=10, xlabelsize=8, ylabelsize=8);"
   ]
  },
  {
   "cell_type": "code",
   "execution_count": 55,
   "metadata": {},
   "outputs": [
    {
     "data": {
      "text/plain": [
       "(490, 8)"
      ]
     },
     "execution_count": 55,
     "metadata": {},
     "output_type": "execute_result"
    }
   ],
   "source": [
    "#i will get dummy variables of all categorical variables here.\n",
    "loan_df_dummies = pd.get_dummies(loan_df[['Gender','Married','Education','Self_Employed']])\n",
    "loan_df_dummies.head()\n",
    "loan_df_dummies.shape"
   ]
  },
  {
   "cell_type": "code",
   "execution_count": 31,
   "metadata": {},
   "outputs": [
    {
     "name": "stderr",
     "output_type": "stream",
     "text": [
      "C:\\Users\\OFFICE\\Anaconda3\\lib\\site-packages\\scipy\\stats\\stats.py:1713: FutureWarning: Using a non-tuple sequence for multidimensional indexing is deprecated; use `arr[tuple(seq)]` instead of `arr[seq]`. In the future this will be interpreted as an array index, `arr[np.array(seq)]`, which will result either in an error or a different result.\n",
      "  return np.add.reduce(sorted[indexer] * weights, axis=axis) / sumval\n"
     ]
    },
    {
     "data": {
      "image/png": "[encoded data removed]",
      "text/plain": [
       "<Figure size 360x360 with 1 Axes>"
      ]
     },
     "metadata": {
      "needs_background": "light"
     },
     "output_type": "display_data"
    }
   ],
   "source": [
    "# A distribution plot of the coapplicant income\n",
    "plt.figure(figsize=(5, 5))\n",
    "sns.distplot(loan_df['CoapplicantIncome'], color='g', bins=50, hist_kws={'alpha': 0.4});"
   ]
  },
  {
   "cell_type": "markdown",
   "metadata": {},
   "source": [
    "With this information from the distribution plot of the Loan Amount, we can see that prices are skewed to the right and some outliers lie above the N10000 Coapplicant income mark."
   ]
  },
  {
   "cell_type": "code",
   "execution_count": 32,
   "metadata": {},
   "outputs": [
    {
     "data": {
      "image/png": "[encoded data removed]",
      "text/plain": [
       "<Figure size 360x360 with 1 Axes>"
      ]
     },
     "metadata": {
      "needs_background": "light"
     },
     "output_type": "display_data"
    }
   ],
   "source": [
    "#Distribution plot of the Applicant income\n",
    "plt.figure(figsize=(5, 5))\n",
    "sns.distplot(loan_df['ApplicantIncome'], color='g', bins=100, hist_kws={'alpha': 0.4});"
   ]
  },
  {
   "cell_type": "markdown",
   "metadata": {},
   "source": [
    "Also the distribution plot presested by the Applicant Income shown above is skewed to the right and some outliers lie above N22000 Applicant income."
   ]
  },
  {
   "cell_type": "markdown",
   "metadata": {},
   "source": [
    "#### Detecting Outliers"
   ]
  },
  {
   "cell_type": "code",
   "execution_count": 33,
   "metadata": {},
   "outputs": [],
   "source": [
    "#getting the z score of the data\n",
    "\n",
    "#z = np.abs(stats.zscore(loan_df[['ApplicantIncome','CoapplicantIncome']]))\n",
    "#print(z)"
   ]
  },
  {
   "cell_type": "code",
   "execution_count": 34,
   "metadata": {},
   "outputs": [],
   "source": [
    "#threshold = 3\n",
    "#print(np.where(z > 3))"
   ]
  },
  {
   "cell_type": "code",
   "execution_count": 35,
   "metadata": {},
   "outputs": [],
   "source": [
    "# calculating te interquatile range\n",
    "#k=loan_df[['ApplicantIncome','CoapplicantIncome']]\n",
    "#Q1 = k.quantile(0.25)\n",
    "#Q3 = k.quantile(0.75)\n",
    "#IQR = Q3 - Q1\n",
    "#print(IQR)"
   ]
  },
  {
   "cell_type": "code",
   "execution_count": 36,
   "metadata": {},
   "outputs": [],
   "source": [
    "#getting the ouliers now\n",
    "\n",
    "#print(k < (Q1 - 1.5 * IQR)) |(k > (Q3 + 1.5 * IQR))"
   ]
  },
  {
   "cell_type": "code",
   "execution_count": 37,
   "metadata": {},
   "outputs": [],
   "source": [
    "#k_o = k[(z < 3).all(axis=1)]\n",
    "#k_o.shape"
   ]
  },
  {
   "cell_type": "code",
   "execution_count": 38,
   "metadata": {},
   "outputs": [
    {
     "name": "stderr",
     "output_type": "stream",
     "text": [
      "C:\\Users\\OFFICE\\Anaconda3\\lib\\site-packages\\sklearn\\preprocessing\\data.py:625: DataConversionWarning: Data with input dtype int64, float64 were all converted to float64 by StandardScaler.\n",
      "  return self.partial_fit(X, y)\n",
      "C:\\Users\\OFFICE\\Anaconda3\\lib\\site-packages\\sklearn\\base.py:462: DataConversionWarning: Data with input dtype int64, float64 were all converted to float64 by StandardScaler.\n",
      "  return self.fit(X, **fit_params).transform(X)\n"
     ]
    }
   ],
   "source": [
    "from sklearn import preprocessing \n",
    "p = loan_df[['ApplicantIncome','CoapplicantIncome']]\n",
    "normalized_data =  preprocessing.StandardScaler().fit_transform(p) \n",
    "outliers_rows, outliers_columns = np.where(np.abs(normalized_data)>3) "
   ]
  },
  {
   "cell_type": "code",
   "execution_count": 39,
   "metadata": {},
   "outputs": [
    {
     "data": {
      "text/plain": [
       "array([[-1.34317485e-01, -2.43069301e-02],\n",
       "       [-4.16510772e-01, -6.05510156e-01],\n",
       "       [-4.90847223e-01,  3.03294358e-01],\n",
       "       [ 1.18283834e-01, -6.05510156e-01],\n",
       "       [ 1.43554152e-02,  1.01168397e+00],\n",
       "       [-5.35413440e-01, -2.12236239e-02],\n",
       "       [-4.10093237e-01,  3.59564697e-01],\n",
       "       [-2.37176315e-01, -1.73694911e-02],\n",
       "       [ 1.33779380e+00,  3.62170270e+00],\n",
       "       [-3.80857799e-01, -3.35720860e-01],\n",
       "       [-4.03497437e-01,  2.51864989e+00],\n",
       "       [-6.20980577e-01,  4.89063559e-01],\n",
       "       [-7.19739314e-01, -1.86951334e-01],\n",
       "       [-6.88942785e-02, -6.05510156e-01],\n",
       "       [-3.25595689e-01, -6.05510156e-01],\n",
       "       [-8.01249652e-02, -6.05510156e-01],\n",
       "       [ 4.14203516e-01, -6.05510156e-01],\n",
       "       [ 1.10261915e-01,  1.56243954e+00],\n",
       "       [-4.87816720e-01,  1.31014622e-01],\n",
       "       [ 7.52906766e-01, -6.05510156e-01],\n",
       "       [-4.52342011e-01,  2.62825963e-01],\n",
       "       [-1.97958043e-01, -2.04680345e-01],\n",
       "       [-6.94247438e-01, -6.05510156e-01],\n",
       "       [-3.86740539e-01, -6.05510156e-01],\n",
       "       [-1.14886615e-01, -6.05510156e-01],\n",
       "       [-3.27378338e-01,  3.69737814e-02],\n",
       "       [ 1.27700548e+00,  5.50729683e-01],\n",
       "       [-2.97608105e-01, -4.31921808e-02],\n",
       "       [-2.08653936e-01,  2.17331959e+00],\n",
       "       [-2.83168651e-01,  3.73591947e-02],\n",
       "       [-3.09551851e-01, -6.05510156e-01],\n",
       "       [-6.30428615e-01, -1.38003848e-01],\n",
       "       [-2.48763531e-01,  2.94815266e-01],\n",
       "       [ 5.57128648e-02, -6.05510156e-01],\n",
       "       [ 8.63744222e-02, -6.05510156e-01],\n",
       "       [-4.79794801e-01,  7.20311527e-01],\n",
       "       [-2.38245904e-01,  2.71305056e-01],\n",
       "       [-6.07610712e-01,  2.81092760e-02],\n",
       "       [-4.01179994e-01, -6.05510156e-01],\n",
       "       [-1.97244984e-01, -6.05510156e-01],\n",
       "       [-1.28434745e-01, -6.05510156e-01],\n",
       "       [ 1.09874061e+00, -6.05510156e-01],\n",
       "       [-4.68564114e-01, -1.55732859e-01],\n",
       "       [-5.71244679e-01,  7.68237213e-03],\n",
       "       [-3.51265831e-01,  2.42399060e-01],\n",
       "       [ 4.89074761e-01,  2.61669724e-01],\n",
       "       [-3.52870214e-01,  4.96386411e-01],\n",
       "       [-5.05643207e-01,  8.57518654e-01],\n",
       "       [-4.11341091e-01, -6.05510156e-01],\n",
       "       [-4.86212336e-01,  7.23780246e-01],\n",
       "       [-2.08653936e-01, -6.05510156e-01],\n",
       "       [ 6.94392597e-02,  1.16546386e+00],\n",
       "       [-3.80857799e-01,  2.63211377e-01],\n",
       "       [ 9.65041960e-01, -6.05510156e-01],\n",
       "       [ 3.14375189e-01, -6.05510156e-01],\n",
       "       [-1.84766443e-01, -6.05510156e-01],\n",
       "       [-3.79431680e-01,  5.76166960e-01],\n",
       "       [-6.17058750e-01,  1.17139744e-01],\n",
       "       [-3.27378338e-01, -6.05510156e-01],\n",
       "       [-1.25625800e-02,  7.82130023e-02],\n",
       "       [-2.82812121e-01, -6.05510156e-01],\n",
       "       [-2.82812121e-01,  1.22520292e+00],\n",
       "       [-7.73040510e-01,  5.59208776e-01],\n",
       "       [-3.86740539e-01,  9.36142963e-01],\n",
       "       [-2.65698694e-01, -6.05510156e-01],\n",
       "       [-7.05656390e-01,  1.19452223e-01],\n",
       "       [-2.40385082e-01, -6.05510156e-01],\n",
       "       [-5.29530699e-01,  3.69970855e-01],\n",
       "       [-5.05643207e-01,  2.10795171e-01],\n",
       "       [ 5.75711487e-01, -6.05510156e-01],\n",
       "       [ 6.39130487e-02,  1.00050698e+00],\n",
       "       [-4.23997897e-01,  5.12188355e-01],\n",
       "       [ 1.62850051e-01,  1.57361653e+00],\n",
       "       [-3.67844463e-01,  9.59420132e-02],\n",
       "       [-2.14536676e-01, -6.05510156e-01],\n",
       "       [-3.05986554e-01, -6.05510156e-01],\n",
       "       [-5.08495445e-01,  2.81711214e-01],\n",
       "       [-5.98875733e-01, -2.21253116e-01],\n",
       "       [-2.04732108e-01, -6.05510156e-01],\n",
       "       [-6.37737475e-01,  7.59238268e-01],\n",
       "       [-1.86905622e-01,  6.52093376e-01],\n",
       "       [-8.79686194e-02,  8.61372787e-01],\n",
       "       [-4.07240999e-01, -2.08534478e-01],\n",
       "       [ 1.08394463e+00, -1.71534803e-01],\n",
       "       [-2.73898878e-01,  7.81977651e-01],\n",
       "       [-5.82118836e-01, -3.14908543e-01],\n",
       "       [-3.64933653e-03, -6.05510156e-01],\n",
       "       [ 1.64833120e+00, -6.05510156e-01],\n",
       "       [-3.86740539e-01,  2.74388362e-01],\n",
       "       [ 4.12734104e-02,  2.20045089e-01],\n",
       "       [ 9.04075375e-01, -6.05510156e-01],\n",
       "       [ 5.89216324e-02,  4.22387061e-01],\n",
       "       [-2.08653936e-01, -6.05510156e-01],\n",
       "       [-5.70353354e-01,  2.85550110e+00],\n",
       "       [-4.24176162e-01, -6.05510156e-01],\n",
       "       [-1.84766443e-01,  1.70712190e-01],\n",
       "       [ 9.22793186e-01,  8.78330971e-01],\n",
       "       [-5.92279933e-01,  1.37952061e-01],\n",
       "       [-4.66781465e-01, -6.05510156e-01],\n",
       "       [-3.34687198e-01, -6.05510156e-01],\n",
       "       [-7.86988463e-02, -6.05510156e-01],\n",
       "       [-2.38245904e-01,  2.38144276e+00],\n",
       "       [-1.34317485e-01, -6.05510156e-01],\n",
       "       [-3.60179074e-01,  7.43436323e-01],\n",
       "       [ 1.72248939e+00, -6.05510156e-01],\n",
       "       [-2.02592930e-01, -5.43691659e-02],\n",
       "       [-5.24939106e-02,  1.97305706e-01],\n",
       "       [ 1.43554152e-02, -6.05510156e-01],\n",
       "       [ 2.87635459e-01, -6.05510156e-01],\n",
       "       [-4.70346763e-01,  1.78420455e-01],\n",
       "       [ 1.14455468e+00, -6.05510156e-01],\n",
       "       [-5.35948235e-01,  1.12345382e+00],\n",
       "       [ 1.69878016e+00, -6.05510156e-01],\n",
       "       [-6.77134011e-01, -5.62962323e-02],\n",
       "       [ 8.31343309e-01,  3.65883681e-02],\n",
       "       [-8.49381167e-02, -2.85617134e-01],\n",
       "       [ 1.67663202e-01, -6.05510156e-01],\n",
       "       [-4.91916812e-01,  8.39789643e-01],\n",
       "       [ 6.82670408e-01, -6.05510156e-01],\n",
       "       [-5.44683213e-01, -6.05510156e-01],\n",
       "       [-3.71231496e-01, -6.05510156e-01],\n",
       "       [ 6.17911111e+00, -6.05510156e-01],\n",
       "       [ 7.48984939e-01, -6.05510156e-01],\n",
       "       [-1.34317485e-01,  1.56243954e+00],\n",
       "       [-6.19197928e-01, -2.04294932e-01],\n",
       "       [ 4.62869825e-01, -6.05510156e-01],\n",
       "       [-4.00645199e-01, -1.12181158e-01],\n",
       "       [-2.08475671e-01, -4.78171402e-02],\n",
       "       [ 7.10657992e-01, -6.05510156e-01],\n",
       "       [-1.34317485e-01, -6.05510156e-01],\n",
       "       [-5.16517364e-01,  6.79072306e-01],\n",
       "       [-5.52526867e-01, -6.05510156e-01],\n",
       "       [ 4.74813571e-01, -6.05510156e-01],\n",
       "       [-3.23456511e-01, -6.05510156e-01],\n",
       "       [ 6.62304920e-02,  1.56243954e+00],\n",
       "       [-1.76922789e-01, -3.21845982e-01],\n",
       "       [-3.27913133e-01,  1.51441526e-01],\n",
       "       [-5.86753722e-01,  1.84739440e-02],\n",
       "       [ 3.20036372e-02,  3.74965991e+00],\n",
       "       [-2.82812121e-01, -6.05510156e-01],\n",
       "       [-5.35413440e-01, -4.62754871e-02],\n",
       "       [ 1.89589781e-01,  2.18873612e+00],\n",
       "       [-1.31286983e-01, -6.05510156e-01],\n",
       "       [ 5.08224737e+00, -6.05510156e-01],\n",
       "       [-3.05095230e-01, -6.05510156e-01],\n",
       "       [ 6.02722944e+00,  1.22520292e+00],\n",
       "       [-5.63044495e-01, -6.05510156e-01],\n",
       "       [ 7.11549317e-01, -6.05510156e-01],\n",
       "       [-8.04814949e-02, -6.05510156e-01],\n",
       "       [ 1.18787305e+00, -6.05510156e-01],\n",
       "       [ 1.24166574e-01, -6.05510156e-01],\n",
       "       [-2.63559515e-01, -6.05510156e-01],\n",
       "       [-2.04197314e-01, -6.05510156e-01],\n",
       "       [-3.94227664e-01,  3.90012346e-01],\n",
       "       [ 5.34175772e-01,  8.39789643e-01],\n",
       "       [ 1.00960818e+00, -6.05510156e-01],\n",
       "       [-4.87816720e-01,  3.58023044e-01],\n",
       "       [-7.37074299e-02, -6.05510156e-01],\n",
       "       [-3.27378338e-01, -1.88107574e-01],\n",
       "       [-2.53041888e-01, -6.05510156e-01],\n",
       "       [-1.65513837e-01, -6.05510156e-01],\n",
       "       [-3.73014145e-01, -6.05510156e-01],\n",
       "       [-2.42702525e-01,  3.69970855e-01],\n",
       "       [-5.09386769e-01, -6.05510156e-01],\n",
       "       [-3.41996057e-01, -6.05510156e-01],\n",
       "       [ 8.31343309e-01, -6.05510156e-01],\n",
       "       [-3.39856879e-01, -1.23743556e-01],\n",
       "       [ 4.36843154e-01, -6.05510156e-01],\n",
       "       [ 6.53391677e-02, -6.05510156e-01],\n",
       "       [-3.85670950e-01,  5.58823362e-01],\n",
       "       [-2.64985634e-01, -2.26648902e-01],\n",
       "       [-9.24565648e-01,  8.82337476e-02],\n",
       "       [-2.86912213e-01,  7.85984156e-02],\n",
       "       [-5.55379105e-01, -6.05510156e-01],\n",
       "       [-2.36641520e-01,  5.62444454e-02],\n",
       "       [-4.21680454e-01,  4.70178308e-01],\n",
       "       [ 1.62850051e-01, -6.05510156e-01],\n",
       "       [-3.71944555e-01, -6.05510156e-01],\n",
       "       [-1.07221225e-01, -6.05510156e-01],\n",
       "       [ 1.62850051e-01,  4.77653532e-02],\n",
       "       [ 1.89589781e-01, -6.05510156e-01],\n",
       "       [-5.07247591e-01,  1.86128721e-01],\n",
       "       [ 5.34175772e-01, -6.05510156e-01],\n",
       "       [-3.88879718e-01,  8.01400687e-02],\n",
       "       [ 2.91513993e-02, -1.19889424e-01],\n",
       "       [-2.71759699e-01, -6.05510156e-01],\n",
       "       [-3.60357339e-01, -6.05510156e-01],\n",
       "       [ 8.60178924e-02,  1.32155624e+00],\n",
       "       [-5.03860558e-01,  1.58764378e-01],\n",
       "       [-4.22750043e-01,  1.59173095e+00],\n",
       "       [ 1.62850051e-01, -1.04472892e-01],\n",
       "       [-3.44135236e-01,  1.09686030e+00],\n",
       "       [ 1.27197077e-01,  1.06448559e+00],\n",
       "       [ 7.78398643e-01, -6.05510156e-01],\n",
       "       [ 2.26668874e-01, -6.05510156e-01],\n",
       "       [-4.37546027e-01,  1.04806519e-01],\n",
       "       [-6.28824231e-01,  1.14441851e-01],\n",
       "       [-6.53959578e-01,  8.93747503e-01],\n",
       "       [-3.40391674e-01, -6.05510156e-01],\n",
       "       [-4.90847223e-01,  2.29680421e-01],\n",
       "       [-4.76942563e-01,  2.13130954e+00],\n",
       "       [ 1.94549874e+00, -6.05510156e-01],\n",
       "       [-4.01714788e-01, -6.05510156e-01],\n",
       "       [ 1.26305753e-01, -6.05510156e-01],\n",
       "       [-1.54148179e-02, -6.05510156e-01],\n",
       "       [ 1.66615769e+00,  2.03857732e-01],\n",
       "       [-5.84079749e-01,  2.45867779e-01],\n",
       "       [-3.30765371e-01, -6.05510156e-01],\n",
       "       [ 3.32201676e-01, -6.05510156e-01],\n",
       "       [-3.03890668e-02, -6.05510156e-01],\n",
       "       [-2.21310741e-01,  7.23009420e-01],\n",
       "       [-1.12034377e-01, -7.09419370e-02],\n",
       "       [-1.78883702e-01,  9.24732937e-02],\n",
       "       [-4.38615616e-01, -4.26543955e-03],\n",
       "       [-3.74261999e-01, -6.05510156e-01],\n",
       "       [ 1.03563485e+00, -6.05510156e-01],\n",
       "       [-4.46281006e-01,  1.10202305e-01],\n",
       "       [-4.84251423e-01,  2.51263565e-01],\n",
       "       [-2.56072391e-01, -6.05510156e-01],\n",
       "       [-4.61076990e-01,  1.04421105e-01],\n",
       "       [-2.39493758e-01,  6.56332922e-01],\n",
       "       [-3.98149491e-01, -1.04472892e-01],\n",
       "       [ 1.64833120e+00, -6.05510156e-01],\n",
       "       [-2.28797866e-01,  3.29502461e-01],\n",
       "       [-2.51259239e-01, -2.97179532e-01],\n",
       "       [-5.41117916e-01, -2.25569750e-01],\n",
       "       [-6.28467701e-01,  3.65883681e-02],\n",
       "       [-3.88344923e-01,  5.71156587e-01],\n",
       "       [-4.87816720e-01,  5.62444454e-02],\n",
       "       [-2.91012305e-01,  1.65316404e-01],\n",
       "       [-2.16141060e-01, -6.05510156e-01],\n",
       "       [ 7.43636993e-01, -6.05510156e-01],\n",
       "       [-4.03140907e-01,  3.25648328e-01],\n",
       "       [-1.66939956e-01, -6.05510156e-01],\n",
       "       [-3.89236248e-01, -4.26543955e-03],\n",
       "       [ 1.43554152e-02, -6.05510156e-01],\n",
       "       [-5.26500196e-01,  6.79457719e-01],\n",
       "       [ 2.74265594e-01, -6.05510156e-01],\n",
       "       [-1.19521501e-01, -6.05510156e-01],\n",
       "       [-5.99810350e-02,  3.73824988e-01],\n",
       "       [-5.92279933e-01,  5.21823687e-01],\n",
       "       [-6.30428615e-01,  5.25292407e-01],\n",
       "       [-4.38793881e-01,  6.89630836e-02],\n",
       "       [-5.99810350e-02, -6.05510156e-01],\n",
       "       [-6.61624967e-01,  8.93899875e-02],\n",
       "       [-2.38245904e-01,  3.58023044e-01],\n",
       "       [-2.80672943e-01,  3.65883681e-02],\n",
       "       [-5.23469694e-01,  1.12514784e-01],\n",
       "       [ 2.65552771e+00, -6.05510156e-01],\n",
       "       [-4.31306757e-01, -6.05510156e-01],\n",
       "       [-4.29524108e-01,  3.21408782e-01],\n",
       "       [-5.04395353e-01, -6.05510156e-01],\n",
       "       [-3.45383090e-01,  2.65676228e-02],\n",
       "       [-2.88694862e-01, -6.05510156e-01],\n",
       "       [ 8.31343309e-01, -6.05510156e-01],\n",
       "       [-5.23469694e-01,  2.29680421e-01],\n",
       "       [-1.77279319e-01, -5.32667046e-01],\n",
       "       [ 1.72266765e+00, -6.05510156e-01],\n",
       "       [ 5.93537974e-01,  1.31500422e+00],\n",
       "       [-7.47770191e-02, -6.05510156e-01],\n",
       "       [ 8.58396276e-02,  2.26982528e-01],\n",
       "       [-1.78883702e-01,  3.39137793e-01],\n",
       "       [-5.05643207e-01, -6.05510156e-01],\n",
       "       [-1.69792194e-01,  8.55358547e-02],\n",
       "       [-4.28097989e-01, -6.05510156e-01],\n",
       "       [-4.46281006e-01, -6.05510156e-01],\n",
       "       [-5.05643207e-01,  1.16739093e+00],\n",
       "       [-2.09723525e-01, -6.05510156e-01],\n",
       "       [-4.79438271e-01,  6.14071901e-03],\n",
       "       [-5.27391521e-01, -6.05510156e-01],\n",
       "       [-1.39487166e-01, -1.31837235e-01],\n",
       "       [-3.85670950e-01, -6.05510156e-01],\n",
       "       [-5.05821472e-01,  3.41835686e-01],\n",
       "       [-3.23278246e-01,  6.39374738e-01],\n",
       "       [-4.01714788e-01,  2.30065835e-01],\n",
       "       [-4.83360098e-01,  1.80332284e+00],\n",
       "       [ 6.67874424e-01, -6.05510156e-01],\n",
       "       [ 6.08512223e-01,  1.00050698e+00],\n",
       "       [-4.76051239e-01,  1.97305706e-01],\n",
       "       [ 2.91513993e-02, -6.05510156e-01],\n",
       "       [-5.19369602e-01, -4.10876450e-01],\n",
       "       [-2.71581434e-01, -6.05510156e-01],\n",
       "       [ 5.34175772e-01,  6.15093701e-01],\n",
       "       [-2.60529012e-01, -6.05510156e-01],\n",
       "       [-4.16510772e-01,  3.65883681e-02],\n",
       "       [-3.02108020e-02,  6.15093701e-01],\n",
       "       [-1.09360404e-01, -6.05510156e-01],\n",
       "       [-5.99810350e-02,  8.07800341e-01],\n",
       "       [-1.04547252e-01,  2.93659026e-01],\n",
       "       [ 2.64817556e-01, -6.05510156e-01],\n",
       "       [ 1.56789045e-01, -6.05510156e-01],\n",
       "       [-5.05643207e-01, -6.05510156e-01],\n",
       "       [ 1.76219916e-01, -6.05510156e-01],\n",
       "       [ 2.56586048e+00,  1.42407618e+00],\n",
       "       [ 1.85797069e+00, -6.05510156e-01],\n",
       "       [-2.70020343e-02, -6.05510156e-01],\n",
       "       [ 7.10657992e-01,  2.42884860e+00],\n",
       "       [-4.05458351e-01,  1.60306031e-01],\n",
       "       [-9.26035060e-02, -2.49773699e-01],\n",
       "       [ 6.08512223e-01,  1.32001459e+00],\n",
       "       [-4.04210497e-01, -6.05510156e-01],\n",
       "       [ 9.72052863e-03, -6.05510156e-01],\n",
       "       [ 1.07766206e-01,  1.02555884e+00],\n",
       "       [ 1.18283834e-01, -6.05510156e-01],\n",
       "       [ 3.26318935e-01, -6.05510156e-01],\n",
       "       [-1.37347988e-01, -6.05510156e-01],\n",
       "       [-5.33095997e-01,  1.11510916e-02],\n",
       "       [-5.35413440e-01,  3.26033741e-01],\n",
       "       [ 2.70122209e-02, -6.05510156e-01],\n",
       "       [ 6.82848673e-01, -6.05510156e-01],\n",
       "       [ 7.42923934e-01, -6.05510156e-01],\n",
       "       [-5.96023495e-01,  2.07864236e-02],\n",
       "       [-3.98684286e-01, -6.59315643e-02],\n",
       "       [-3.84423096e-01, -6.05510156e-01],\n",
       "       [-4.10628032e-01, -4.31921808e-02],\n",
       "       [-2.55715861e-01,  3.65883681e-02],\n",
       "       [-6.83908076e-01,  8.82337476e-02],\n",
       "       [-4.36298173e-01, -6.05510156e-01],\n",
       "       [-4.60185665e-01, -6.05510156e-01],\n",
       "       [-5.05643207e-01,  7.10275544e+00],\n",
       "       [-6.01371441e-01, -6.05510156e-01],\n",
       "       [ 3.75163510e-01, -6.05510156e-01],\n",
       "       [-1.40735021e-01, -6.05510156e-01],\n",
       "       [-5.65005408e-01,  3.19481716e-01],\n",
       "       [-5.56805224e-01, -6.05510156e-01],\n",
       "       [ 5.28293032e-01, -6.05510156e-01],\n",
       "       [ 1.34881490e+01, -6.05510156e-01],\n",
       "       [-2.61955131e-01, -6.05510156e-01],\n",
       "       [ 1.35397261e-01, -6.05510156e-01],\n",
       "       [-5.49674629e-01,  1.78035042e-01],\n",
       "       [-5.68214176e-01,  6.42072631e-01],\n",
       "       [-4.17402097e-01, -6.05510156e-01],\n",
       "       [-4.87816720e-01, -6.05510156e-01],\n",
       "       [-6.66081589e-01,  7.10275544e+00],\n",
       "       [-7.68583888e-01,  4.63240869e-01],\n",
       "       [-3.72657615e-01, -5.93795386e-02],\n",
       "       [ 8.78005411e-02, -6.05510156e-01],\n",
       "       [-6.26863318e-01,  5.70152719e-02],\n",
       "       [ 1.70127587e+00, -6.05510156e-01],\n",
       "       [-4.76051239e-01,  1.05176695e+00],\n",
       "       [-1.30217393e-01, -6.05510156e-01],\n",
       "       [ 1.06696617e-01, -6.05510156e-01],\n",
       "       [-4.30771962e-01, -5.99297294e-01],\n",
       "       [-4.66959730e-01, -6.05510156e-01],\n",
       "       [ 5.86050849e-01, -6.05510156e-01],\n",
       "       [ 2.07416268e-01, -6.05510156e-01],\n",
       "       [-5.19013072e-01,  2.96356919e-01],\n",
       "       [-2.82812121e-01, -6.05510156e-01],\n",
       "       [-6.07967242e-01,  1.07889825e-01],\n",
       "       [ 9.05501494e-01, -6.05510156e-01],\n",
       "       [ 3.21862314e-01, -6.05510156e-01],\n",
       "       [-2.98855959e-01,  1.34622269e+00],\n",
       "       [ 4.57165349e-01,  1.00952386e-01],\n",
       "       [-1.12212642e-01,  1.62618511e-01],\n",
       "       [ 5.77266720e+00, -6.05510156e-01],\n",
       "       [-3.33439344e-01, -1.39160088e-01],\n",
       "       [-1.22017209e-01, -6.05510156e-01],\n",
       "       [-3.55900717e-01,  5.35465524e-02],\n",
       "       [-5.39691797e-01, -1.21816490e-01],\n",
       "       [-2.47515677e-01,  6.24110579e-02],\n",
       "       [-5.08673710e-01,  3.44918992e-01],\n",
       "       [ 3.11701216e-01, -6.05510156e-01],\n",
       "       [-2.63381250e-01, -6.05510156e-01],\n",
       "       [-1.84588178e-01, -6.05510156e-01],\n",
       "       [-2.90299245e-01,  3.84616560e-01],\n",
       "       [-1.75140140e-01, -6.05510156e-01],\n",
       "       [ 5.34354037e-01, -6.05510156e-01],\n",
       "       [ 4.28464705e-01, -6.05510156e-01],\n",
       "       [-4.13836799e-01,  2.37774100e-01],\n",
       "       [-2.08653936e-01, -6.05510156e-01],\n",
       "       [ 1.18283834e-01, -6.05510156e-01],\n",
       "       [-4.25958811e-01,  3.58175416e-02],\n",
       "       [-1.78883702e-01,  3.39137793e-01],\n",
       "       [-3.36291582e-01,  1.95764053e-01],\n",
       "       [-4.78368682e-01, -2.73902363e-02],\n",
       "       [-1.15064879e-01, -6.05510156e-01],\n",
       "       [ 3.48558751e-02,  1.18589077e+00],\n",
       "       [ 1.99452158e+00, -2.14701090e-01],\n",
       "       [ 2.43069242e-01,  6.89630836e-02],\n",
       "       [ 2.01983519e+00,  2.61669724e-01],\n",
       "       [-1.75853200e-01, -6.05510156e-01],\n",
       "       [-3.99575610e-01, -6.05510156e-01],\n",
       "       [-5.79979657e-01,  6.08541675e-01],\n",
       "       [ 9.79837944e-01, -6.05510156e-01],\n",
       "       [ 5.34175772e-01, -6.05510156e-01],\n",
       "       [-6.02262766e-01,  3.33356594e-01],\n",
       "       [-3.18999889e-01, -6.05510156e-01],\n",
       "       [ 2.31682446e+00, -6.05510156e-01],\n",
       "       [-1.34317485e-01,  1.97305706e-01],\n",
       "       [-5.17230423e-01, -6.05510156e-01],\n",
       "       [-2.93329748e-01, -6.05510156e-01],\n",
       "       [ 2.12608105e+00, -6.05510156e-01],\n",
       "       [-3.10086646e-01,  2.25826289e-01],\n",
       "       [-3.58396425e-01, -2.53627832e-01],\n",
       "       [-4.87816720e-01,  4.96924196e-02],\n",
       "       [-4.35228584e-01, -6.05510156e-01],\n",
       "       [ 1.68732792e-01,  1.09647489e+00],\n",
       "       [-8.36324538e-01,  8.13966954e-01],\n",
       "       [-3.88166658e-01, -6.05510156e-01],\n",
       "       [-8.40467923e-02,  1.56205413e+00],\n",
       "       [-2.71403169e-01, -3.39422621e-02],\n",
       "       [-3.25595689e-01,  1.09647489e+00],\n",
       "       [-5.09386769e-01,  5.55740056e-01],\n",
       "       [ 1.41284331e+00, -6.05510156e-01],\n",
       "       [-3.09908381e-01, -1.09483265e-01],\n",
       "       [ 1.29871050e-01,  1.66858057e-01],\n",
       "       [-3.66061815e-01,  1.78805868e-01],\n",
       "       [-5.71601208e-01,  1.96365477e+00],\n",
       "       [ 8.53048330e-02,  8.07414928e-01],\n",
       "       [-3.33439344e-01,  7.15686567e-01],\n",
       "       [-5.89249430e-01,  2.34843166e-02],\n",
       "       [-4.03319172e-01,  8.82337476e-02],\n",
       "       [-1.16490998e-01,  1.32556275e-01],\n",
       "       [-3.45204825e-01, -6.05510156e-01],\n",
       "       [-5.60548786e-01,  6.58797774e-02],\n",
       "       [-5.05643207e-01, -6.05510156e-01],\n",
       "       [ 6.07042811e-02, -5.66816456e-02],\n",
       "       [ 4.65543798e-01,  2.15636141e+00],\n",
       "       [ 2.16832982e+00, -6.05510156e-01],\n",
       "       [-2.78355499e-01, -6.05510156e-01],\n",
       "       [-9.17554746e-03, -5.43691659e-02],\n",
       "       [-4.73733795e-01, -1.03702066e-01],\n",
       "       [ 2.57865226e-01, -6.05510156e-01],\n",
       "       [-1.88153476e-01, -6.05510156e-01],\n",
       "       [-3.11691030e-01, -6.05510156e-01],\n",
       "       [ 2.28687596e+00, -6.05510156e-01],\n",
       "       [ 1.41993061e-01,  8.99914115e-01],\n",
       "       [-3.06521348e-01, -6.05510156e-01],\n",
       "       [-4.31306757e-01, -3.98928638e-01],\n",
       "       [ 1.92620284e-01, -6.05510156e-01],\n",
       "       [-1.29860864e-01,  4.90990625e-01],\n",
       "       [-5.70175089e-01, -6.05510156e-01],\n",
       "       [-5.52170338e-01,  3.67272962e-01],\n",
       "       [-4.57868222e-01,  1.46045740e-01],\n",
       "       [-3.52691949e-01, -6.05510156e-01],\n",
       "       [-5.01008320e-01,  8.16817219e-02],\n",
       "       [-5.99810350e-02, -6.05510156e-01],\n",
       "       [-4.54837719e-01,  1.71483016e-01],\n",
       "       [-3.57148571e-01,  6.47083003e-01],\n",
       "       [-5.13843391e-01,  2.93659026e-01],\n",
       "       [-3.10799705e-01,  1.03866290e+00],\n",
       "       [ 2.34469235e-02, -2.07763651e-01],\n",
       "       [ 8.56122125e-01, -6.05510156e-01],\n",
       "       [-2.58389834e-01,  4.23157888e-01],\n",
       "       [-2.06158227e-01,  2.83252867e-01],\n",
       "       [-2.96181986e-01, -5.12240142e-01],\n",
       "       [ 2.52200732e+00, -6.05510156e-01],\n",
       "       [ 1.04557439e-01,  1.86128721e-01],\n",
       "       [ 8.26308599e-02, -6.05510156e-01],\n",
       "       [ 6.17247201e-01, -6.05510156e-01],\n",
       "       [-3.57148571e-01, -6.05510156e-01],\n",
       "       [-3.45204825e-01,  3.58023044e-01],\n",
       "       [-5.27391521e-01, -6.05510156e-01],\n",
       "       [-3.86918804e-01,  1.89982854e-01],\n",
       "       [-3.42174322e-01,  6.89630836e-02],\n",
       "       [-3.93023103e-02, -4.62754871e-02],\n",
       "       [ 2.01965692e+00, -6.05510156e-01],\n",
       "       [ 1.40566942e-01,  2.07864236e-02],\n",
       "       [ 1.90659370e-01, -6.05510156e-01],\n",
       "       [-3.88166658e-01, -4.27834634e-01],\n",
       "       [-3.75688118e-01,  4.50136817e-01],\n",
       "       [-6.33637383e-01,  2.54732285e-01],\n",
       "       [ 2.14546863e-01, -6.05510156e-01],\n",
       "       [-6.24011080e-01,  1.24357190e+01],\n",
       "       [-3.86918804e-01, -6.05510156e-01],\n",
       "       [-4.54481190e-01,  1.33327101e-01],\n",
       "       [-1.87796946e-01,  5.50729683e-01],\n",
       "       [-5.41830975e-01, -1.89111442e-02],\n",
       "       [-5.65361938e-01, -6.05510156e-01],\n",
       "       [-4.65355347e-01, -6.05510156e-01],\n",
       "       [-4.16510772e-01,  7.11061608e-01],\n",
       "       [ 1.18283834e-01, -6.05510156e-01],\n",
       "       [-2.63381250e-01,  6.66353667e-01],\n",
       "       [ 1.92232431e+00, -6.05510156e-01],\n",
       "       [-2.68016137e-01, -6.05510156e-01],\n",
       "       [ 1.86559278e-01, -2.20096876e-01],\n",
       "       [-4.18828216e-01, -6.05510156e-01],\n",
       "       [ 8.24747508e-01, -6.05510156e-01],\n",
       "       [ 7.90655626e-02, -6.05510156e-01],\n",
       "       [ 6.53391677e-02, -6.05510156e-01],\n",
       "       [-2.96003721e-01,  1.05215236e+00],\n",
       "       [ 1.18787305e+00, -6.05510156e-01],\n",
       "       [-3.45204825e-01,  3.58023044e-01],\n",
       "       [-2.40563347e-01, -6.16920182e-02],\n",
       "       [-3.75153323e-01,  1.46045740e-01],\n",
       "       [-4.34337259e-01, -6.05510156e-01],\n",
       "       [-2.19349828e-01, -6.05510156e-01],\n",
       "       [ 4.87648642e-01, -5.13010969e-01],\n",
       "       [ 4.00477121e-01, -6.05510156e-01],\n",
       "       [-1.34317485e-01, -6.05510156e-01]])"
      ]
     },
     "execution_count": 39,
     "metadata": {},
     "output_type": "execute_result"
    }
   ],
   "source": [
    "normalized_data"
   ]
  },
  {
   "cell_type": "code",
   "execution_count": 40,
   "metadata": {},
   "outputs": [
    {
     "data": {
      "text/plain": [
       "(490, 2)"
      ]
     },
     "execution_count": 40,
     "metadata": {},
     "output_type": "execute_result"
    }
   ],
   "source": [
    "normalized_data.shape"
   ]
  },
  {
   "cell_type": "code",
   "execution_count": 41,
   "metadata": {},
   "outputs": [
    {
     "name": "stdout",
     "output_type": "stream",
     "text": [
      "[  8 121 138 143 145 319 326 333 354 463]\n"
     ]
    }
   ],
   "source": [
    "print(outliers_rows)"
   ]
  },
  {
   "cell_type": "code",
   "execution_count": 42,
   "metadata": {},
   "outputs": [
    {
     "name": "stdout",
     "output_type": "stream",
     "text": [
      "[(8, 1), (121, 0), (138, 1), (143, 0), (145, 0), (319, 1), (326, 0), (333, 1), (354, 0), (463, 1)]\n"
     ]
    }
   ],
   "source": [
    "print(list(zip(outliers_rows, outliers_columns))) "
   ]
  },
  {
   "cell_type": "code",
   "execution_count": 43,
   "metadata": {},
   "outputs": [],
   "source": [
    "from sklearn.decomposition import PCA \n",
    "\n",
    "# Just for visualization purposes pick the first 2 PCA components\n",
    "pca = PCA(n_components=2) \n",
    "Zscore_components = pca.fit_transform(normalized_data)\n",
    "vtot = 'PCA Variance explained ' +  str(round(np.sum(pca.explained_variance_ratio_),3)) \n",
    "v1 = str(round(pca.explained_variance_ratio_[0],3)) \n",
    "v2 = str(round(pca.explained_variance_ratio_[1],3)) "
   ]
  },
  {
   "cell_type": "code",
   "execution_count": 44,
   "metadata": {},
   "outputs": [
    {
     "data": {
      "image/png": "[encoded data removed]",
      "text/plain": [
       "<Figure size 432x288 with 1 Axes>"
      ]
     },
     "metadata": {
      "needs_background": "light"
     },
     "output_type": "display_data"
    }
   ],
   "source": [
    "from sklearn.covariance import EllipticEnvelope\n",
    "\n",
    "\n",
    "# Robust Covariance Estimate \n",
    "robust_covariance_est = EllipticEnvelope(store_precision=False,  assume_centered = False, contamination=.02) \n",
    "robust_covariance_est.fit(normalized_data) \n",
    "detection = robust_covariance_est.predict(normalized_data) \n",
    "outliers = np.where(detection==-1) \n",
    "regular = np.where(detection==1)\n",
    "\n",
    "# Draw the distribution and the detected outliers \n",
    "\n",
    "a = plt.plot(Zscore_components[regular,0],Zscore_components[regular,1],  'x', markersize=2, color='black', alpha=0.6, label='inliers') \n",
    "b = plt.plot(Zscore_components[outliers,0],Zscore_components[outliers,1],  'o', markersize=6,color='black', alpha=0.8, label='outliers') \n",
    "plt.xlabel('1st component ('+v1+')')\n",
    "plt.ylabel('2nd component ('+v2+')') \n",
    "plt.xlim([-7,7])\n",
    "plt.ylim([-6,6]) \n",
    "plt.legend((a[0],b[0]),('inliers','outliers'),numpoints=1,loc='best')\n",
    "plt.title(vtot)\n",
    "plt.show()"
   ]
  },
  {
   "cell_type": "code",
   "execution_count": 45,
   "metadata": {},
   "outputs": [
    {
     "data": {
      "text/plain": [
       "(array([121, 143, 145, 248, 293, 319, 326, 333, 354, 463], dtype=int64),)"
      ]
     },
     "execution_count": 45,
     "metadata": {},
     "output_type": "execute_result"
    }
   ],
   "source": [
    "outliers"
   ]
  },
  {
   "cell_type": "code",
   "execution_count": 46,
   "metadata": {},
   "outputs": [
    {
     "data": {
      "text/plain": [
       "(array([  0,   1,   2,   3,   4,   5,   6,   7,   8,   9,  10,  11,  12,\n",
       "         13,  14,  15,  16,  17,  18,  19,  20,  21,  22,  23,  24,  25,\n",
       "         26,  27,  28,  29,  30,  31,  32,  33,  34,  35,  36,  37,  38,\n",
       "         39,  40,  41,  42,  43,  44,  45,  46,  47,  48,  49,  50,  51,\n",
       "         52,  53,  54,  55,  56,  57,  58,  59,  60,  61,  62,  63,  64,\n",
       "         65,  66,  67,  68,  69,  70,  71,  72,  73,  74,  75,  76,  77,\n",
       "         78,  79,  80,  81,  82,  83,  84,  85,  86,  87,  88,  89,  90,\n",
       "         91,  92,  93,  94,  95,  96,  97,  98,  99, 100, 101, 102, 103,\n",
       "        104, 105, 106, 107, 108, 109, 110, 111, 112, 113, 114, 115, 116,\n",
       "        117, 118, 119, 120, 122, 123, 124, 125, 126, 127, 128, 129, 130,\n",
       "        131, 132, 133, 134, 135, 136, 137, 138, 139, 140, 141, 142, 144,\n",
       "        146, 147, 148, 149, 150, 151, 152, 153, 154, 155, 156, 157, 158,\n",
       "        159, 160, 161, 162, 163, 164, 165, 166, 167, 168, 169, 170, 171,\n",
       "        172, 173, 174, 175, 176, 177, 178, 179, 180, 181, 182, 183, 184,\n",
       "        185, 186, 187, 188, 189, 190, 191, 192, 193, 194, 195, 196, 197,\n",
       "        198, 199, 200, 201, 202, 203, 204, 205, 206, 207, 208, 209, 210,\n",
       "        211, 212, 213, 214, 215, 216, 217, 218, 219, 220, 221, 222, 223,\n",
       "        224, 225, 226, 227, 228, 229, 230, 231, 232, 233, 234, 235, 236,\n",
       "        237, 238, 239, 240, 241, 242, 243, 244, 245, 246, 247, 249, 250,\n",
       "        251, 252, 253, 254, 255, 256, 257, 258, 259, 260, 261, 262, 263,\n",
       "        264, 265, 266, 267, 268, 269, 270, 271, 272, 273, 274, 275, 276,\n",
       "        277, 278, 279, 280, 281, 282, 283, 284, 285, 286, 287, 288, 289,\n",
       "        290, 291, 292, 294, 295, 296, 297, 298, 299, 300, 301, 302, 303,\n",
       "        304, 305, 306, 307, 308, 309, 310, 311, 312, 313, 314, 315, 316,\n",
       "        317, 318, 320, 321, 322, 323, 324, 325, 327, 328, 329, 330, 331,\n",
       "        332, 334, 335, 336, 337, 338, 339, 340, 341, 342, 343, 344, 345,\n",
       "        346, 347, 348, 349, 350, 351, 352, 353, 355, 356, 357, 358, 359,\n",
       "        360, 361, 362, 363, 364, 365, 366, 367, 368, 369, 370, 371, 372,\n",
       "        373, 374, 375, 376, 377, 378, 379, 380, 381, 382, 383, 384, 385,\n",
       "        386, 387, 388, 389, 390, 391, 392, 393, 394, 395, 396, 397, 398,\n",
       "        399, 400, 401, 402, 403, 404, 405, 406, 407, 408, 409, 410, 411,\n",
       "        412, 413, 414, 415, 416, 417, 418, 419, 420, 421, 422, 423, 424,\n",
       "        425, 426, 427, 428, 429, 430, 431, 432, 433, 434, 435, 436, 437,\n",
       "        438, 439, 440, 441, 442, 443, 444, 445, 446, 447, 448, 449, 450,\n",
       "        451, 452, 453, 454, 455, 456, 457, 458, 459, 460, 461, 462, 464,\n",
       "        465, 466, 467, 468, 469, 470, 471, 472, 473, 474, 475, 476, 477,\n",
       "        478, 479, 480, 481, 482, 483, 484, 485, 486, 487, 488, 489],\n",
       "       dtype=int64),)"
      ]
     },
     "execution_count": 46,
     "metadata": {},
     "output_type": "execute_result"
    }
   ],
   "source": [
    "regular"
   ]
  },
  {
   "cell_type": "markdown",
   "metadata": {},
   "source": [
    "###### one class svm"
   ]
  },
  {
   "cell_type": "code",
   "execution_count": 47,
   "metadata": {},
   "outputs": [
    {
     "name": "stderr",
     "output_type": "stream",
     "text": [
      "C:\\Users\\OFFICE\\Anaconda3\\lib\\site-packages\\sklearn\\preprocessing\\data.py:625: DataConversionWarning: Data with input dtype int64, float64 were all converted to float64 by StandardScaler.\n",
      "  return self.partial_fit(X, y)\n",
      "C:\\Users\\OFFICE\\Anaconda3\\lib\\site-packages\\sklearn\\base.py:462: DataConversionWarning: Data with input dtype int64, float64 were all converted to float64 by StandardScaler.\n",
      "  return self.fit(X, **fit_params).transform(X)\n"
     ]
    },
    {
     "data": {
      "image/png": "[encoded data removed]",
      "text/plain": [
       "<Figure size 432x288 with 1 Axes>"
      ]
     },
     "metadata": {
      "needs_background": "light"
     },
     "output_type": "display_data"
    },
    {
     "data": {
      "image/png": "[encoded data removed]",
      "text/plain": [
       "<Figure size 432x288 with 1 Axes>"
      ]
     },
     "metadata": {
      "needs_background": "light"
     },
     "output_type": "display_data"
    }
   ],
   "source": [
    "from sklearn.decomposition import PCA \n",
    "from sklearn import preprocessing \n",
    "from sklearn import svm \n",
    "\n",
    "# Normalized data relative to continuous variables \n",
    "normalized_data =  preprocessing.StandardScaler().fit_transform(p) \n",
    "\n",
    "# Just for visualization purposes pick the first 2 PCA components \n",
    "pca = PCA(n_components=2) \n",
    "Zscore_components = pca.fit_transform(normalized_data) \n",
    "vtot = 'PCA Variance explained ' +  str(round(np.sum(pca.explained_variance_ratio_),3)) \n",
    "\n",
    "# OneClassSVM fitting and estimates \n",
    "outliers_fraction = 0.02 # \n",
    "nu_estimate = 0.95 * outliers_fraction + 0.05 \n",
    "machine_learning = svm.OneClassSVM(kernel=\"rbf\",  gamma=1.0/len(normalized_data), degree=3, nu=nu_estimate) \n",
    "machine_learning.fit(normalized_data) \n",
    "detection = machine_learning.predict(normalized_data) \n",
    "outliers = np.where(detection==-1) \n",
    "regular = np.where(detection==1) \n",
    "\n",
    "# Draw the distribution and the detected outliers \n",
    "from matplotlib import pyplot as plt\n",
    "for r in range(0,2):  \n",
    "    a =  plt.plot(Zscore_components[regular,0],Zscore_components[regular,r],  'x', markersize=2, color='blue', alpha=0.6, label='inliers')  \n",
    "    b =  plt.plot(Zscore_components[outliers,0],Zscore_components[outliers,r],  'o', markersize=6,color='red', alpha=0.8, label='outliers')  \n",
    "    plt.xlabel('Component 1  ('+str(round(pca.explained_variance_ratio_[0],3))+')') \n",
    "    plt.ylabel('Component  '+str(r+1)+'('+str(round(pca.explained_variance_ratio_[r],3))+')') \n",
    "    plt.xlim([-7,7])  \n",
    "    plt.ylim([-6,6])   \n",
    "    plt.legend((a[0],b[0]),('inliers','outliers'),numpoints=1,loc='best')  \n",
    "    plt.title(vtot) \n",
    "    plt.show()"
   ]
  },
  {
   "cell_type": "markdown",
   "metadata": {},
   "source": [
    "##### classification "
   ]
  },
  {
   "cell_type": "code",
   "execution_count": 82,
   "metadata": {},
   "outputs": [
    {
     "data": {
      "text/html": [
       "<div>\n",
       "<style scoped>\n",
       "    .dataframe tbody tr th:only-of-type {\n",
       "        vertical-align: middle;\n",
       "    }\n",
       "\n",
       "    .dataframe tbody tr th {\n",
       "        vertical-align: top;\n",
       "    }\n",
       "\n",
       "    .dataframe thead th {\n",
       "        text-align: right;\n",
       "    }\n",
       "</style>\n",
       "<table border=\"1\" class=\"dataframe\">\n",
       "  <thead>\n",
       "    <tr style=\"text-align: right;\">\n",
       "      <th></th>\n",
       "      <th>ApplicantIncome</th>\n",
       "      <th>CoapplicantIncome</th>\n",
       "      <th>Loan_Status</th>\n",
       "      <th>Gender_Female</th>\n",
       "      <th>Gender_Male</th>\n",
       "      <th>Married_No</th>\n",
       "      <th>Married_Yes</th>\n",
       "      <th>Education_Graduate</th>\n",
       "      <th>Education_Not Graduate</th>\n",
       "      <th>Self_Employed_No</th>\n",
       "      <th>Self_Employed_Yes</th>\n",
       "    </tr>\n",
       "  </thead>\n",
       "  <tbody>\n",
       "    <tr>\n",
       "      <th>1</th>\n",
       "      <td>4583</td>\n",
       "      <td>1508.0</td>\n",
       "      <td>N</td>\n",
       "      <td>0</td>\n",
       "      <td>1</td>\n",
       "      <td>0</td>\n",
       "      <td>1</td>\n",
       "      <td>1</td>\n",
       "      <td>0</td>\n",
       "      <td>1</td>\n",
       "      <td>0</td>\n",
       "    </tr>\n",
       "    <tr>\n",
       "      <th>2</th>\n",
       "      <td>3000</td>\n",
       "      <td>0.0</td>\n",
       "      <td>Y</td>\n",
       "      <td>0</td>\n",
       "      <td>1</td>\n",
       "      <td>0</td>\n",
       "      <td>1</td>\n",
       "      <td>1</td>\n",
       "      <td>0</td>\n",
       "      <td>0</td>\n",
       "      <td>1</td>\n",
       "    </tr>\n",
       "    <tr>\n",
       "      <th>3</th>\n",
       "      <td>2583</td>\n",
       "      <td>2358.0</td>\n",
       "      <td>Y</td>\n",
       "      <td>0</td>\n",
       "      <td>1</td>\n",
       "      <td>0</td>\n",
       "      <td>1</td>\n",
       "      <td>0</td>\n",
       "      <td>1</td>\n",
       "      <td>1</td>\n",
       "      <td>0</td>\n",
       "    </tr>\n",
       "    <tr>\n",
       "      <th>4</th>\n",
       "      <td>6000</td>\n",
       "      <td>0.0</td>\n",
       "      <td>Y</td>\n",
       "      <td>0</td>\n",
       "      <td>1</td>\n",
       "      <td>1</td>\n",
       "      <td>0</td>\n",
       "      <td>1</td>\n",
       "      <td>0</td>\n",
       "      <td>1</td>\n",
       "      <td>0</td>\n",
       "    </tr>\n",
       "    <tr>\n",
       "      <th>5</th>\n",
       "      <td>5417</td>\n",
       "      <td>4196.0</td>\n",
       "      <td>Y</td>\n",
       "      <td>0</td>\n",
       "      <td>1</td>\n",
       "      <td>0</td>\n",
       "      <td>1</td>\n",
       "      <td>1</td>\n",
       "      <td>0</td>\n",
       "      <td>0</td>\n",
       "      <td>1</td>\n",
       "    </tr>\n",
       "  </tbody>\n",
       "</table>\n",
       "</div>"
      ],
      "text/plain": [
       "   ApplicantIncome  CoapplicantIncome Loan_Status  Gender_Female  Gender_Male  \\\n",
       "1             4583             1508.0           N              0            1   \n",
       "2             3000                0.0           Y              0            1   \n",
       "3             2583             2358.0           Y              0            1   \n",
       "4             6000                0.0           Y              0            1   \n",
       "5             5417             4196.0           Y              0            1   \n",
       "\n",
       "   Married_No  Married_Yes  Education_Graduate  Education_Not Graduate  \\\n",
       "1           0            1                   1                       0   \n",
       "2           0            1                   1                       0   \n",
       "3           0            1                   0                       1   \n",
       "4           1            0                   1                       0   \n",
       "5           0            1                   1                       0   \n",
       "\n",
       "   Self_Employed_No  Self_Employed_Yes  \n",
       "1                 1                  0  \n",
       "2                 0                  1  \n",
       "3                 1                  0  \n",
       "4                 1                  0  \n",
       "5                 0                  1  "
      ]
     },
     "execution_count": 82,
     "metadata": {},
     "output_type": "execute_result"
    }
   ],
   "source": [
    "t = loan_df[['ApplicantIncome','CoapplicantIncome','Loan_Status']]\n",
    "dat = pd.concat([t,loan_df_dummies],axis=1, sort=True)\n",
    "dat_=[t,loan_df_dummies]\n",
    "#dat_key=pd.concat(dat_,keys=['x','y'])\n",
    "#dat_key\n",
    "dat.head()"
   ]
  },
  {
   "cell_type": "code",
   "execution_count": 63,
   "metadata": {},
   "outputs": [],
   "source": [
    "pred_var = dat[['ApplicantIncome','CoapplicantIncome','Gender_Female','Gender_Male','Married_No','Married_Yes',\n",
    "        'Education_Graduate','Education_Not Graduate','Self_Employed_No','Self_Employed_Yes']]\n",
    "x = pred_var.copy()"
   ]
  },
  {
   "cell_type": "code",
   "execution_count": 64,
   "metadata": {},
   "outputs": [
    {
     "data": {
      "text/plain": [
       "Index(['ApplicantIncome', 'CoapplicantIncome', 'Gender_Female', 'Gender_Male',\n",
       "       'Married_No', 'Married_Yes', 'Education_Graduate',\n",
       "       'Education_Not Graduate', 'Self_Employed_No', 'Self_Employed_Yes'],\n",
       "      dtype='object')"
      ]
     },
     "execution_count": 64,
     "metadata": {},
     "output_type": "execute_result"
    }
   ],
   "source": [
    "x.columns"
   ]
  },
  {
   "cell_type": "code",
   "execution_count": 65,
   "metadata": {},
   "outputs": [
    {
     "data": {
      "text/html": [
       "<div>\n",
       "<style scoped>\n",
       "    .dataframe tbody tr th:only-of-type {\n",
       "        vertical-align: middle;\n",
       "    }\n",
       "\n",
       "    .dataframe tbody tr th {\n",
       "        vertical-align: top;\n",
       "    }\n",
       "\n",
       "    .dataframe thead th {\n",
       "        text-align: right;\n",
       "    }\n",
       "</style>\n",
       "<table border=\"1\" class=\"dataframe\">\n",
       "  <thead>\n",
       "    <tr style=\"text-align: right;\">\n",
       "      <th></th>\n",
       "      <th>ApplicantIncome</th>\n",
       "      <th>CoapplicantIncome</th>\n",
       "      <th>Gender_Female</th>\n",
       "      <th>Gender_Male</th>\n",
       "      <th>Married_No</th>\n",
       "      <th>Married_Yes</th>\n",
       "      <th>Education_Graduate</th>\n",
       "      <th>Education_Not Graduate</th>\n",
       "      <th>Self_Employed_No</th>\n",
       "      <th>Self_Employed_Yes</th>\n",
       "    </tr>\n",
       "  </thead>\n",
       "  <tbody>\n",
       "    <tr>\n",
       "      <th>1</th>\n",
       "      <td>4583</td>\n",
       "      <td>1508.0</td>\n",
       "      <td>0</td>\n",
       "      <td>1</td>\n",
       "      <td>0</td>\n",
       "      <td>1</td>\n",
       "      <td>1</td>\n",
       "      <td>0</td>\n",
       "      <td>1</td>\n",
       "      <td>0</td>\n",
       "    </tr>\n",
       "    <tr>\n",
       "      <th>2</th>\n",
       "      <td>3000</td>\n",
       "      <td>0.0</td>\n",
       "      <td>0</td>\n",
       "      <td>1</td>\n",
       "      <td>0</td>\n",
       "      <td>1</td>\n",
       "      <td>1</td>\n",
       "      <td>0</td>\n",
       "      <td>0</td>\n",
       "      <td>1</td>\n",
       "    </tr>\n",
       "    <tr>\n",
       "      <th>3</th>\n",
       "      <td>2583</td>\n",
       "      <td>2358.0</td>\n",
       "      <td>0</td>\n",
       "      <td>1</td>\n",
       "      <td>0</td>\n",
       "      <td>1</td>\n",
       "      <td>0</td>\n",
       "      <td>1</td>\n",
       "      <td>1</td>\n",
       "      <td>0</td>\n",
       "    </tr>\n",
       "    <tr>\n",
       "      <th>4</th>\n",
       "      <td>6000</td>\n",
       "      <td>0.0</td>\n",
       "      <td>0</td>\n",
       "      <td>1</td>\n",
       "      <td>1</td>\n",
       "      <td>0</td>\n",
       "      <td>1</td>\n",
       "      <td>0</td>\n",
       "      <td>1</td>\n",
       "      <td>0</td>\n",
       "    </tr>\n",
       "    <tr>\n",
       "      <th>5</th>\n",
       "      <td>5417</td>\n",
       "      <td>4196.0</td>\n",
       "      <td>0</td>\n",
       "      <td>1</td>\n",
       "      <td>0</td>\n",
       "      <td>1</td>\n",
       "      <td>1</td>\n",
       "      <td>0</td>\n",
       "      <td>0</td>\n",
       "      <td>1</td>\n",
       "    </tr>\n",
       "  </tbody>\n",
       "</table>\n",
       "</div>"
      ],
      "text/plain": [
       "   ApplicantIncome  CoapplicantIncome  Gender_Female  Gender_Male  Married_No  \\\n",
       "1             4583             1508.0              0            1           0   \n",
       "2             3000                0.0              0            1           0   \n",
       "3             2583             2358.0              0            1           0   \n",
       "4             6000                0.0              0            1           1   \n",
       "5             5417             4196.0              0            1           0   \n",
       "\n",
       "   Married_Yes  Education_Graduate  Education_Not Graduate  Self_Employed_No  \\\n",
       "1            1                   1                       0                 1   \n",
       "2            1                   1                       0                 0   \n",
       "3            1                   0                       1                 1   \n",
       "4            0                   1                       0                 1   \n",
       "5            1                   1                       0                 0   \n",
       "\n",
       "   Self_Employed_Yes  \n",
       "1                  0  \n",
       "2                  1  \n",
       "3                  0  \n",
       "4                  0  \n",
       "5                  1  "
      ]
     },
     "execution_count": 65,
     "metadata": {},
     "output_type": "execute_result"
    }
   ],
   "source": [
    "x.head()"
   ]
  },
  {
   "cell_type": "code",
   "execution_count": 66,
   "metadata": {},
   "outputs": [
    {
     "data": {
      "text/plain": [
       "1    N\n",
       "2    Y\n",
       "3    Y\n",
       "4    Y\n",
       "5    Y\n",
       "Name: Loan_Status, dtype: object"
      ]
     },
     "execution_count": 66,
     "metadata": {},
     "output_type": "execute_result"
    }
   ],
   "source": [
    "y=dat['Loan_Status']\n",
    "y.head()"
   ]
  },
  {
   "cell_type": "code",
   "execution_count": 67,
   "metadata": {},
   "outputs": [],
   "source": [
    "# performing a test and train split\n",
    "\n",
    "x_train, x_test, y_train, y_test = train_test_split(x,y, test_size=0.33, random_state=324)"
   ]
  },
  {
   "cell_type": "code",
   "execution_count": 70,
   "metadata": {},
   "outputs": [
    {
     "data": {
      "text/plain": [
       "DecisionTreeClassifier(class_weight=None, criterion='gini', max_depth=None,\n",
       "            max_features=None, max_leaf_nodes=5, min_impurity_decrease=0.0,\n",
       "            min_impurity_split=None, min_samples_leaf=1,\n",
       "            min_samples_split=2, min_weight_fraction_leaf=0.0,\n",
       "            presort=False, random_state=0, splitter='best')"
      ]
     },
     "execution_count": 70,
     "metadata": {},
     "output_type": "execute_result"
    }
   ],
   "source": [
    "# fit on train set\n",
    "\n",
    "loan_classifier = DecisionTreeClassifier(max_leaf_nodes=5,random_state=0)\n",
    "loan_classifier.fit(x_train, y_train)"
   ]
  },
  {
   "cell_type": "code",
   "execution_count": 71,
   "metadata": {},
   "outputs": [
    {
     "data": {
      "text/plain": [
       "sklearn.tree.tree.DecisionTreeClassifier"
      ]
     },
     "execution_count": 71,
     "metadata": {},
     "output_type": "execute_result"
    }
   ],
   "source": [
    "type(loan_classifier)"
   ]
  },
  {
   "cell_type": "code",
   "execution_count": 72,
   "metadata": {},
   "outputs": [],
   "source": [
    "# predict on test data\n",
    "\n",
    "predictions = loan_classifier.predict(x_test)"
   ]
  },
  {
   "cell_type": "code",
   "execution_count": 73,
   "metadata": {},
   "outputs": [
    {
     "data": {
      "text/plain": [
       "array(['Y', 'Y', 'Y', 'Y', 'Y', 'Y', 'Y', 'Y', 'Y', 'Y'], dtype=object)"
      ]
     },
     "execution_count": 73,
     "metadata": {},
     "output_type": "execute_result"
    }
   ],
   "source": [
    "predictions[:10]"
   ]
  },
  {
   "cell_type": "code",
   "execution_count": 79,
   "metadata": {},
   "outputs": [
    {
     "data": {
      "text/plain": [
       "315    Y\n",
       "149    Y\n",
       "272    Y\n",
       "246    Y\n",
       "324    Y\n",
       "248    Y\n",
       "258    N\n",
       "201    Y\n",
       "405    Y\n",
       "227    Y\n",
       "Name: Loan_Status, dtype: object"
      ]
     },
     "execution_count": 79,
     "metadata": {},
     "output_type": "execute_result"
    }
   ],
   "source": [
    "y_test[:10]"
   ]
  },
  {
   "cell_type": "code",
   "execution_count": 80,
   "metadata": {},
   "outputs": [
    {
     "data": {
      "text/plain": [
       "0.6172839506172839"
      ]
     },
     "execution_count": 80,
     "metadata": {},
     "output_type": "execute_result"
    }
   ],
   "source": [
    "#measuring the accuracy of the classifier\n",
    "\n",
    "accuracy_score(y_true=y_test, y_pred=predictions)"
   ]
  },
  {
   "cell_type": "code",
   "execution_count": null,
   "metadata": {},
   "outputs": [],
   "source": []
  }
 ],
 "metadata": {
  "kernelspec": {
   "display_name": "Python 3",
   "language": "python",
   "name": "python3"
  },
  "language_info": {
   "codemirror_mode": {
    "name": "ipython",
    "version": 3
   },
   "file_extension": ".py",
   "mimetype": "text/x-python",
   "name": "python",
   "nbconvert_exporter": "python",
   "pygments_lexer": "ipython3",
   "version": "3.7.1"
  }
 },
 "nbformat": 4,
 "nbformat_minor": 2
}
